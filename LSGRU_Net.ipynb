{
  "nbformat": 4,
  "nbformat_minor": 0,
  "metadata": {
    "colab": {
      "name": "LSGRU_Net.ipynb",
      "provenance": [],
      "collapsed_sections": [],
      "machine_shape": "hm",
      "authorship_tag": "ABX9TyO5fHvrqxjiaQ4yZu9stj0R",
      "include_colab_link": true
    },
    "kernelspec": {
      "name": "python3",
      "display_name": "Python 3"
    },
    "language_info": {
      "name": "python"
    },
    "accelerator": "GPU"
  },
  "cells": [
    {
      "cell_type": "markdown",
      "metadata": {
        "id": "view-in-github",
        "colab_type": "text"
      },
      "source": [
        "<a href=\"https://colab.research.google.com/github/deepjyotikalita1994/glucose_prediction/blob/main/LSGRU_Net.ipynb\" target=\"_parent\"><img src=\"https://colab.research.google.com/assets/colab-badge.svg\" alt=\"Open In Colab\"/></a>"
      ]
    },
    {
      "cell_type": "code",
      "metadata": {
        "id": "FmEv6FCk6NIV"
      },
      "source": [
        "import pandas as pd\n",
        "import matplotlib as mpl\n",
        "import matplotlib.pyplot as plt\n",
        "from sklearn.model_selection import train_test_split\n",
        "from keras.preprocessing.sequence import TimeseriesGenerator\n",
        "from sklearn.preprocessing import MinMaxScaler, StandardScaler\n",
        "import tensorflow as tf\n",
        "import numpy\n",
        "\n",
        "from numpy import array\n",
        "from numpy import hstack\n",
        "from numpy import insert\n",
        "\n",
        "mpl.rcParams['figure.figsize'] = (10,8)\n",
        "mpl.rcParams['axes.grid'] = False"
      ],
      "execution_count": null,
      "outputs": []
    },
    {
      "cell_type": "code",
      "metadata": {
        "id": "OEoKL_vy6mwq"
      },
      "source": [
        "from  google.colab import drive"
      ],
      "execution_count": null,
      "outputs": []
    },
    {
      "cell_type": "code",
      "metadata": {
        "colab": {
          "base_uri": "https://localhost:8080/"
        },
        "id": "wS212RIF6o1l",
        "outputId": "dc3145ad-8913-4daf-d0a2-6ebc58ae8c8f"
      },
      "source": [
        "drive.mount('/content/drive')"
      ],
      "execution_count": null,
      "outputs": [
        {
          "output_type": "stream",
          "name": "stdout",
          "text": [
            "Mounted at /content/drive\n"
          ]
        }
      ]
    },
    {
      "cell_type": "code",
      "metadata": {
        "id": "5F6Np74A7vxa"
      },
      "source": [
        "df=pd.read_csv('/content/drive/MyDrive/DK Dataset/Adult 8 (180 Days).csv')"
      ],
      "execution_count": null,
      "outputs": []
    },
    {
      "cell_type": "code",
      "metadata": {
        "colab": {
          "base_uri": "https://localhost:8080/",
          "height": 423
        },
        "id": "o350IG_Z70Te",
        "outputId": "47c53083-9688-437d-e32f-0d0c1dc3155d"
      },
      "source": [
        "df"
      ],
      "execution_count": null,
      "outputs": [
        {
          "output_type": "execute_result",
          "data": {
            "text/html": [
              "\n",
              "  <div id=\"df-864106d6-24a8-4ca4-9895-41f7f1f4d33a\">\n",
              "    <div class=\"colab-df-container\">\n",
              "      <div>\n",
              "<style scoped>\n",
              "    .dataframe tbody tr th:only-of-type {\n",
              "        vertical-align: middle;\n",
              "    }\n",
              "\n",
              "    .dataframe tbody tr th {\n",
              "        vertical-align: top;\n",
              "    }\n",
              "\n",
              "    .dataframe thead th {\n",
              "        text-align: right;\n",
              "    }\n",
              "</style>\n",
              "<table border=\"1\" class=\"dataframe\">\n",
              "  <thead>\n",
              "    <tr style=\"text-align: right;\">\n",
              "      <th></th>\n",
              "      <th>Time</th>\n",
              "      <th>BG</th>\n",
              "      <th>CGM</th>\n",
              "      <th>CHO</th>\n",
              "      <th>insulin</th>\n",
              "      <th>LBGI</th>\n",
              "      <th>HBGI</th>\n",
              "      <th>Risk</th>\n",
              "    </tr>\n",
              "  </thead>\n",
              "  <tbody>\n",
              "    <tr>\n",
              "      <th>0</th>\n",
              "      <td>09-08-2021 06:00</td>\n",
              "      <td>143.230000</td>\n",
              "      <td>144.607888</td>\n",
              "      <td>0.0</td>\n",
              "      <td>0.019025</td>\n",
              "      <td>0.000000</td>\n",
              "      <td>2.031487</td>\n",
              "      <td>2.031487</td>\n",
              "    </tr>\n",
              "    <tr>\n",
              "      <th>1</th>\n",
              "      <td>09-08-2021 06:05</td>\n",
              "      <td>143.230000</td>\n",
              "      <td>143.816545</td>\n",
              "      <td>0.0</td>\n",
              "      <td>0.019025</td>\n",
              "      <td>0.000000</td>\n",
              "      <td>2.031487</td>\n",
              "      <td>2.031487</td>\n",
              "    </tr>\n",
              "    <tr>\n",
              "      <th>2</th>\n",
              "      <td>09-08-2021 06:10</td>\n",
              "      <td>143.230000</td>\n",
              "      <td>146.652374</td>\n",
              "      <td>0.0</td>\n",
              "      <td>0.019025</td>\n",
              "      <td>0.000000</td>\n",
              "      <td>2.031487</td>\n",
              "      <td>2.031487</td>\n",
              "    </tr>\n",
              "    <tr>\n",
              "      <th>3</th>\n",
              "      <td>09-08-2021 06:15</td>\n",
              "      <td>143.230000</td>\n",
              "      <td>151.384258</td>\n",
              "      <td>0.0</td>\n",
              "      <td>0.019025</td>\n",
              "      <td>0.000000</td>\n",
              "      <td>2.031487</td>\n",
              "      <td>2.031487</td>\n",
              "    </tr>\n",
              "    <tr>\n",
              "      <th>4</th>\n",
              "      <td>09-08-2021 06:20</td>\n",
              "      <td>143.230000</td>\n",
              "      <td>156.535252</td>\n",
              "      <td>0.0</td>\n",
              "      <td>0.019025</td>\n",
              "      <td>0.000000</td>\n",
              "      <td>2.031487</td>\n",
              "      <td>2.031487</td>\n",
              "    </tr>\n",
              "    <tr>\n",
              "      <th>...</th>\n",
              "      <td>...</td>\n",
              "      <td>...</td>\n",
              "      <td>...</td>\n",
              "      <td>...</td>\n",
              "      <td>...</td>\n",
              "      <td>...</td>\n",
              "      <td>...</td>\n",
              "      <td>...</td>\n",
              "    </tr>\n",
              "    <tr>\n",
              "      <th>51835</th>\n",
              "      <td>10-08-2021 05:35</td>\n",
              "      <td>105.474757</td>\n",
              "      <td>92.379190</td>\n",
              "      <td>0.0</td>\n",
              "      <td>0.019025</td>\n",
              "      <td>0.144929</td>\n",
              "      <td>0.000000</td>\n",
              "      <td>0.144929</td>\n",
              "    </tr>\n",
              "    <tr>\n",
              "      <th>51836</th>\n",
              "      <td>10-08-2021 05:40</td>\n",
              "      <td>105.919054</td>\n",
              "      <td>90.825641</td>\n",
              "      <td>0.0</td>\n",
              "      <td>0.019025</td>\n",
              "      <td>0.126701</td>\n",
              "      <td>0.000000</td>\n",
              "      <td>0.126701</td>\n",
              "    </tr>\n",
              "    <tr>\n",
              "      <th>51837</th>\n",
              "      <td>10-08-2021 05:45</td>\n",
              "      <td>106.362621</td>\n",
              "      <td>93.390377</td>\n",
              "      <td>0.0</td>\n",
              "      <td>0.019025</td>\n",
              "      <td>0.109792</td>\n",
              "      <td>0.000000</td>\n",
              "      <td>0.109792</td>\n",
              "    </tr>\n",
              "    <tr>\n",
              "      <th>51838</th>\n",
              "      <td>10-08-2021 05:50</td>\n",
              "      <td>106.805322</td>\n",
              "      <td>97.786213</td>\n",
              "      <td>0.0</td>\n",
              "      <td>0.019025</td>\n",
              "      <td>0.094184</td>\n",
              "      <td>0.000000</td>\n",
              "      <td>0.094184</td>\n",
              "    </tr>\n",
              "    <tr>\n",
              "      <th>51839</th>\n",
              "      <td>10-08-2021 05:55</td>\n",
              "      <td>107.247019</td>\n",
              "      <td>101.034242</td>\n",
              "      <td>0.0</td>\n",
              "      <td>0.019025</td>\n",
              "      <td>0.079860</td>\n",
              "      <td>0.000000</td>\n",
              "      <td>0.079860</td>\n",
              "    </tr>\n",
              "  </tbody>\n",
              "</table>\n",
              "<p>51840 rows × 8 columns</p>\n",
              "</div>\n",
              "      <button class=\"colab-df-convert\" onclick=\"convertToInteractive('df-864106d6-24a8-4ca4-9895-41f7f1f4d33a')\"\n",
              "              title=\"Convert this dataframe to an interactive table.\"\n",
              "              style=\"display:none;\">\n",
              "        \n",
              "  <svg xmlns=\"http://www.w3.org/2000/svg\" height=\"24px\"viewBox=\"0 0 24 24\"\n",
              "       width=\"24px\">\n",
              "    <path d=\"M0 0h24v24H0V0z\" fill=\"none\"/>\n",
              "    <path d=\"M18.56 5.44l.94 2.06.94-2.06 2.06-.94-2.06-.94-.94-2.06-.94 2.06-2.06.94zm-11 1L8.5 8.5l.94-2.06 2.06-.94-2.06-.94L8.5 2.5l-.94 2.06-2.06.94zm10 10l.94 2.06.94-2.06 2.06-.94-2.06-.94-.94-2.06-.94 2.06-2.06.94z\"/><path d=\"M17.41 7.96l-1.37-1.37c-.4-.4-.92-.59-1.43-.59-.52 0-1.04.2-1.43.59L10.3 9.45l-7.72 7.72c-.78.78-.78 2.05 0 2.83L4 21.41c.39.39.9.59 1.41.59.51 0 1.02-.2 1.41-.59l7.78-7.78 2.81-2.81c.8-.78.8-2.07 0-2.86zM5.41 20L4 18.59l7.72-7.72 1.47 1.35L5.41 20z\"/>\n",
              "  </svg>\n",
              "      </button>\n",
              "      \n",
              "  <style>\n",
              "    .colab-df-container {\n",
              "      display:flex;\n",
              "      flex-wrap:wrap;\n",
              "      gap: 12px;\n",
              "    }\n",
              "\n",
              "    .colab-df-convert {\n",
              "      background-color: #E8F0FE;\n",
              "      border: none;\n",
              "      border-radius: 50%;\n",
              "      cursor: pointer;\n",
              "      display: none;\n",
              "      fill: #1967D2;\n",
              "      height: 32px;\n",
              "      padding: 0 0 0 0;\n",
              "      width: 32px;\n",
              "    }\n",
              "\n",
              "    .colab-df-convert:hover {\n",
              "      background-color: #E2EBFA;\n",
              "      box-shadow: 0px 1px 2px rgba(60, 64, 67, 0.3), 0px 1px 3px 1px rgba(60, 64, 67, 0.15);\n",
              "      fill: #174EA6;\n",
              "    }\n",
              "\n",
              "    [theme=dark] .colab-df-convert {\n",
              "      background-color: #3B4455;\n",
              "      fill: #D2E3FC;\n",
              "    }\n",
              "\n",
              "    [theme=dark] .colab-df-convert:hover {\n",
              "      background-color: #434B5C;\n",
              "      box-shadow: 0px 1px 3px 1px rgba(0, 0, 0, 0.15);\n",
              "      filter: drop-shadow(0px 1px 2px rgba(0, 0, 0, 0.3));\n",
              "      fill: #FFFFFF;\n",
              "    }\n",
              "  </style>\n",
              "\n",
              "      <script>\n",
              "        const buttonEl =\n",
              "          document.querySelector('#df-864106d6-24a8-4ca4-9895-41f7f1f4d33a button.colab-df-convert');\n",
              "        buttonEl.style.display =\n",
              "          google.colab.kernel.accessAllowed ? 'block' : 'none';\n",
              "\n",
              "        async function convertToInteractive(key) {\n",
              "          const element = document.querySelector('#df-864106d6-24a8-4ca4-9895-41f7f1f4d33a');\n",
              "          const dataTable =\n",
              "            await google.colab.kernel.invokeFunction('convertToInteractive',\n",
              "                                                     [key], {});\n",
              "          if (!dataTable) return;\n",
              "\n",
              "          const docLinkHtml = 'Like what you see? Visit the ' +\n",
              "            '<a target=\"_blank\" href=https://colab.research.google.com/notebooks/data_table.ipynb>data table notebook</a>'\n",
              "            + ' to learn more about interactive tables.';\n",
              "          element.innerHTML = '';\n",
              "          dataTable['output_type'] = 'display_data';\n",
              "          await google.colab.output.renderOutput(dataTable, element);\n",
              "          const docLink = document.createElement('div');\n",
              "          docLink.innerHTML = docLinkHtml;\n",
              "          element.appendChild(docLink);\n",
              "        }\n",
              "      </script>\n",
              "    </div>\n",
              "  </div>\n",
              "  "
            ],
            "text/plain": [
              "                   Time          BG         CGM  ...      LBGI      HBGI      Risk\n",
              "0      09-08-2021 06:00  143.230000  144.607888  ...  0.000000  2.031487  2.031487\n",
              "1      09-08-2021 06:05  143.230000  143.816545  ...  0.000000  2.031487  2.031487\n",
              "2      09-08-2021 06:10  143.230000  146.652374  ...  0.000000  2.031487  2.031487\n",
              "3      09-08-2021 06:15  143.230000  151.384258  ...  0.000000  2.031487  2.031487\n",
              "4      09-08-2021 06:20  143.230000  156.535252  ...  0.000000  2.031487  2.031487\n",
              "...                 ...         ...         ...  ...       ...       ...       ...\n",
              "51835  10-08-2021 05:35  105.474757   92.379190  ...  0.144929  0.000000  0.144929\n",
              "51836  10-08-2021 05:40  105.919054   90.825641  ...  0.126701  0.000000  0.126701\n",
              "51837  10-08-2021 05:45  106.362621   93.390377  ...  0.109792  0.000000  0.109792\n",
              "51838  10-08-2021 05:50  106.805322   97.786213  ...  0.094184  0.000000  0.094184\n",
              "51839  10-08-2021 05:55  107.247019  101.034242  ...  0.079860  0.000000  0.079860\n",
              "\n",
              "[51840 rows x 8 columns]"
            ]
          },
          "metadata": {},
          "execution_count": 5
        }
      ]
    },
    {
      "cell_type": "code",
      "metadata": {
        "id": "27x9Buyj74cZ"
      },
      "source": [
        "df['Time']=pd.to_datetime(df['Time'], infer_datetime_format= True) "
      ],
      "execution_count": null,
      "outputs": []
    },
    {
      "cell_type": "code",
      "metadata": {
        "id": "pEGS9VTV9SOr"
      },
      "source": [
        "df_input=df[['CGM','CHO']]"
      ],
      "execution_count": null,
      "outputs": []
    },
    {
      "cell_type": "code",
      "metadata": {
        "colab": {
          "base_uri": "https://localhost:8080/",
          "height": 423
        },
        "id": "sm--bIQ69VAl",
        "outputId": "78e14fef-a6d3-4082-e509-8ffda0e6414c"
      },
      "source": [
        "df_input"
      ],
      "execution_count": null,
      "outputs": [
        {
          "output_type": "execute_result",
          "data": {
            "text/html": [
              "\n",
              "  <div id=\"df-11dde164-22f8-47ab-ac24-91a69ec06939\">\n",
              "    <div class=\"colab-df-container\">\n",
              "      <div>\n",
              "<style scoped>\n",
              "    .dataframe tbody tr th:only-of-type {\n",
              "        vertical-align: middle;\n",
              "    }\n",
              "\n",
              "    .dataframe tbody tr th {\n",
              "        vertical-align: top;\n",
              "    }\n",
              "\n",
              "    .dataframe thead th {\n",
              "        text-align: right;\n",
              "    }\n",
              "</style>\n",
              "<table border=\"1\" class=\"dataframe\">\n",
              "  <thead>\n",
              "    <tr style=\"text-align: right;\">\n",
              "      <th></th>\n",
              "      <th>CGM</th>\n",
              "      <th>CHO</th>\n",
              "    </tr>\n",
              "  </thead>\n",
              "  <tbody>\n",
              "    <tr>\n",
              "      <th>0</th>\n",
              "      <td>144.607888</td>\n",
              "      <td>0.0</td>\n",
              "    </tr>\n",
              "    <tr>\n",
              "      <th>1</th>\n",
              "      <td>143.816545</td>\n",
              "      <td>0.0</td>\n",
              "    </tr>\n",
              "    <tr>\n",
              "      <th>2</th>\n",
              "      <td>146.652374</td>\n",
              "      <td>0.0</td>\n",
              "    </tr>\n",
              "    <tr>\n",
              "      <th>3</th>\n",
              "      <td>151.384258</td>\n",
              "      <td>0.0</td>\n",
              "    </tr>\n",
              "    <tr>\n",
              "      <th>4</th>\n",
              "      <td>156.535252</td>\n",
              "      <td>0.0</td>\n",
              "    </tr>\n",
              "    <tr>\n",
              "      <th>...</th>\n",
              "      <td>...</td>\n",
              "      <td>...</td>\n",
              "    </tr>\n",
              "    <tr>\n",
              "      <th>51835</th>\n",
              "      <td>92.379190</td>\n",
              "      <td>0.0</td>\n",
              "    </tr>\n",
              "    <tr>\n",
              "      <th>51836</th>\n",
              "      <td>90.825641</td>\n",
              "      <td>0.0</td>\n",
              "    </tr>\n",
              "    <tr>\n",
              "      <th>51837</th>\n",
              "      <td>93.390377</td>\n",
              "      <td>0.0</td>\n",
              "    </tr>\n",
              "    <tr>\n",
              "      <th>51838</th>\n",
              "      <td>97.786213</td>\n",
              "      <td>0.0</td>\n",
              "    </tr>\n",
              "    <tr>\n",
              "      <th>51839</th>\n",
              "      <td>101.034242</td>\n",
              "      <td>0.0</td>\n",
              "    </tr>\n",
              "  </tbody>\n",
              "</table>\n",
              "<p>51840 rows × 2 columns</p>\n",
              "</div>\n",
              "      <button class=\"colab-df-convert\" onclick=\"convertToInteractive('df-11dde164-22f8-47ab-ac24-91a69ec06939')\"\n",
              "              title=\"Convert this dataframe to an interactive table.\"\n",
              "              style=\"display:none;\">\n",
              "        \n",
              "  <svg xmlns=\"http://www.w3.org/2000/svg\" height=\"24px\"viewBox=\"0 0 24 24\"\n",
              "       width=\"24px\">\n",
              "    <path d=\"M0 0h24v24H0V0z\" fill=\"none\"/>\n",
              "    <path d=\"M18.56 5.44l.94 2.06.94-2.06 2.06-.94-2.06-.94-.94-2.06-.94 2.06-2.06.94zm-11 1L8.5 8.5l.94-2.06 2.06-.94-2.06-.94L8.5 2.5l-.94 2.06-2.06.94zm10 10l.94 2.06.94-2.06 2.06-.94-2.06-.94-.94-2.06-.94 2.06-2.06.94z\"/><path d=\"M17.41 7.96l-1.37-1.37c-.4-.4-.92-.59-1.43-.59-.52 0-1.04.2-1.43.59L10.3 9.45l-7.72 7.72c-.78.78-.78 2.05 0 2.83L4 21.41c.39.39.9.59 1.41.59.51 0 1.02-.2 1.41-.59l7.78-7.78 2.81-2.81c.8-.78.8-2.07 0-2.86zM5.41 20L4 18.59l7.72-7.72 1.47 1.35L5.41 20z\"/>\n",
              "  </svg>\n",
              "      </button>\n",
              "      \n",
              "  <style>\n",
              "    .colab-df-container {\n",
              "      display:flex;\n",
              "      flex-wrap:wrap;\n",
              "      gap: 12px;\n",
              "    }\n",
              "\n",
              "    .colab-df-convert {\n",
              "      background-color: #E8F0FE;\n",
              "      border: none;\n",
              "      border-radius: 50%;\n",
              "      cursor: pointer;\n",
              "      display: none;\n",
              "      fill: #1967D2;\n",
              "      height: 32px;\n",
              "      padding: 0 0 0 0;\n",
              "      width: 32px;\n",
              "    }\n",
              "\n",
              "    .colab-df-convert:hover {\n",
              "      background-color: #E2EBFA;\n",
              "      box-shadow: 0px 1px 2px rgba(60, 64, 67, 0.3), 0px 1px 3px 1px rgba(60, 64, 67, 0.15);\n",
              "      fill: #174EA6;\n",
              "    }\n",
              "\n",
              "    [theme=dark] .colab-df-convert {\n",
              "      background-color: #3B4455;\n",
              "      fill: #D2E3FC;\n",
              "    }\n",
              "\n",
              "    [theme=dark] .colab-df-convert:hover {\n",
              "      background-color: #434B5C;\n",
              "      box-shadow: 0px 1px 3px 1px rgba(0, 0, 0, 0.15);\n",
              "      filter: drop-shadow(0px 1px 2px rgba(0, 0, 0, 0.3));\n",
              "      fill: #FFFFFF;\n",
              "    }\n",
              "  </style>\n",
              "\n",
              "      <script>\n",
              "        const buttonEl =\n",
              "          document.querySelector('#df-11dde164-22f8-47ab-ac24-91a69ec06939 button.colab-df-convert');\n",
              "        buttonEl.style.display =\n",
              "          google.colab.kernel.accessAllowed ? 'block' : 'none';\n",
              "\n",
              "        async function convertToInteractive(key) {\n",
              "          const element = document.querySelector('#df-11dde164-22f8-47ab-ac24-91a69ec06939');\n",
              "          const dataTable =\n",
              "            await google.colab.kernel.invokeFunction('convertToInteractive',\n",
              "                                                     [key], {});\n",
              "          if (!dataTable) return;\n",
              "\n",
              "          const docLinkHtml = 'Like what you see? Visit the ' +\n",
              "            '<a target=\"_blank\" href=https://colab.research.google.com/notebooks/data_table.ipynb>data table notebook</a>'\n",
              "            + ' to learn more about interactive tables.';\n",
              "          element.innerHTML = '';\n",
              "          dataTable['output_type'] = 'display_data';\n",
              "          await google.colab.output.renderOutput(dataTable, element);\n",
              "          const docLink = document.createElement('div');\n",
              "          docLink.innerHTML = docLinkHtml;\n",
              "          element.appendChild(docLink);\n",
              "        }\n",
              "      </script>\n",
              "    </div>\n",
              "  </div>\n",
              "  "
            ],
            "text/plain": [
              "              CGM  CHO\n",
              "0      144.607888  0.0\n",
              "1      143.816545  0.0\n",
              "2      146.652374  0.0\n",
              "3      151.384258  0.0\n",
              "4      156.535252  0.0\n",
              "...           ...  ...\n",
              "51835   92.379190  0.0\n",
              "51836   90.825641  0.0\n",
              "51837   93.390377  0.0\n",
              "51838   97.786213  0.0\n",
              "51839  101.034242  0.0\n",
              "\n",
              "[51840 rows x 2 columns]"
            ]
          },
          "metadata": {},
          "execution_count": 8
        }
      ]
    },
    {
      "cell_type": "code",
      "metadata": {
        "id": "b4FgzgQxA_Sx"
      },
      "source": [
        "m=df_input.iloc[:,0:1]\n",
        "n=df_input.iloc[:,1:2]"
      ],
      "execution_count": null,
      "outputs": []
    },
    {
      "cell_type": "markdown",
      "metadata": {
        "id": "9zay3D-xBihm"
      },
      "source": [
        "**Scaling Using MinMax Scaler**"
      ]
    },
    {
      "cell_type": "code",
      "metadata": {
        "id": "l62dSCvFBCk9"
      },
      "source": [
        "scaler1 = MinMaxScaler()\n",
        "scaler2 = MinMaxScaler()\n",
        "data_scaled1 = scaler1.fit_transform(m)\n",
        "data_scaled2 = scaler2.fit_transform(n)"
      ],
      "execution_count": null,
      "outputs": []
    },
    {
      "cell_type": "code",
      "metadata": {
        "id": "ag5ZdkWGBFaB"
      },
      "source": [
        "data_scaled = hstack((data_scaled1,data_scaled2))"
      ],
      "execution_count": null,
      "outputs": []
    },
    {
      "cell_type": "code",
      "metadata": {
        "colab": {
          "base_uri": "https://localhost:8080/"
        },
        "id": "qTPO3KnCBJKB",
        "outputId": "cc7f73d4-f087-47af-81a8-9a3343249b3d"
      },
      "source": [
        "data_scaled"
      ],
      "execution_count": null,
      "outputs": [
        {
          "output_type": "execute_result",
          "data": {
            "text/plain": [
              "array([[0.39302608, 0.        ],\n",
              "       [0.39008105, 0.        ],\n",
              "       [0.40063476, 0.        ],\n",
              "       ...,\n",
              "       [0.20241705, 0.        ],\n",
              "       [0.21877641, 0.        ],\n",
              "       [0.23086415, 0.        ]])"
            ]
          },
          "metadata": {},
          "execution_count": 12
        }
      ]
    },
    {
      "cell_type": "code",
      "metadata": {
        "id": "0wKDziA4BLeN"
      },
      "source": [
        "features=data_scaled\n",
        "target=data_scaled[:,0]"
      ],
      "execution_count": null,
      "outputs": []
    },
    {
      "cell_type": "code",
      "metadata": {
        "colab": {
          "base_uri": "https://localhost:8080/"
        },
        "id": "4WSnipLEBNrA",
        "outputId": "c4435519-a7d1-4288-e80e-e0f817a3ce05"
      },
      "source": [
        "target"
      ],
      "execution_count": null,
      "outputs": [
        {
          "output_type": "execute_result",
          "data": {
            "text/plain": [
              "array([0.39302608, 0.39008105, 0.40063476, ..., 0.20241705, 0.21877641,\n",
              "       0.23086415])"
            ]
          },
          "metadata": {},
          "execution_count": 14
        }
      ]
    },
    {
      "cell_type": "markdown",
      "metadata": {
        "id": "NdBX_e9XBTi2"
      },
      "source": [
        "**Creating the Target for Calculation of 3 point prediction Ahead**"
      ]
    },
    {
      "cell_type": "code",
      "metadata": {
        "id": "sF0qGJmuBRjY"
      },
      "source": [
        "a = insert(target, 0, 0)"
      ],
      "execution_count": null,
      "outputs": []
    },
    {
      "cell_type": "code",
      "metadata": {
        "id": "fgixsWNfBp6_"
      },
      "source": [
        "b=target[0:]\n",
        "b1= numpy.roll(b,-1)\n",
        "b2 = insert(b1, 0, 0)"
      ],
      "execution_count": null,
      "outputs": []
    },
    {
      "cell_type": "code",
      "metadata": {
        "id": "WI7WZValBv49"
      },
      "source": [
        "b=target[0:]\n",
        "c1= numpy.roll(b,-2)\n",
        "c2 = insert(c1, 0, 0)"
      ],
      "execution_count": null,
      "outputs": []
    },
    {
      "cell_type": "code",
      "metadata": {
        "id": "rCJrNpYHByHk"
      },
      "source": [
        "a5 = a.reshape((len(a), 1,1))\n",
        "b5 = b2.reshape((len(b2), 1,1))\n",
        "c5 = c2.reshape((len(c2), 1,1))"
      ],
      "execution_count": null,
      "outputs": []
    },
    {
      "cell_type": "code",
      "metadata": {
        "id": "7itZmm0CB0Kj"
      },
      "source": [
        "target_data = hstack((a5, b5, c5))\n"
      ],
      "execution_count": null,
      "outputs": []
    },
    {
      "cell_type": "code",
      "metadata": {
        "id": "TPDs-vvLB5fr"
      },
      "source": [
        "p=len(target_data)\n",
        "new_target_data=target_data[:p-2]"
      ],
      "execution_count": null,
      "outputs": []
    },
    {
      "cell_type": "code",
      "metadata": {
        "colab": {
          "base_uri": "https://localhost:8080/"
        },
        "id": "QwfQSfcgB-1F",
        "outputId": "23748668-2111-4232-dc92-7c6cbe81ada7"
      },
      "source": [
        "TimeseriesGenerator(features[:-1], new_target_data[:], length=2, sampling_rate=1, batch_size=1 )[0]"
      ],
      "execution_count": null,
      "outputs": [
        {
          "output_type": "execute_result",
          "data": {
            "text/plain": [
              "(array([[[0.39302608, 0.        ],\n",
              "         [0.39008105, 0.        ]]]), array([[[0.39008105],\n",
              "         [0.40063476],\n",
              "         [0.41824475]]]))"
            ]
          },
          "metadata": {},
          "execution_count": 21
        }
      ]
    },
    {
      "cell_type": "code",
      "metadata": {
        "id": "37OFdvU0CEPZ"
      },
      "source": [
        "x_train, x_test, y_train, y_test = train_test_split(features[:-1], new_target_data[:], test_size=0.20, random_state=123, shuffle= False)"
      ],
      "execution_count": null,
      "outputs": []
    },
    {
      "cell_type": "code",
      "metadata": {
        "id": "pM31GV8LCIPY"
      },
      "source": [
        "win_length=288\n",
        "batch_size=32\n",
        "num_features=2\n",
        "train_generator = TimeseriesGenerator(x_train, y_train, length=win_length, sampling_rate=1, batch_size=batch_size)\n",
        "test_generator = TimeseriesGenerator(x_test, y_test, length=win_length, sampling_rate=1, batch_size=batch_size)"
      ],
      "execution_count": null,
      "outputs": []
    },
    {
      "cell_type": "code",
      "metadata": {
        "id": "R9_UExRuCO2y"
      },
      "source": [
        "model = tf.keras.Sequential()\n",
        "model.add(tf.keras.layers.GRU(128,input_shape= (win_length, num_features), return_sequences=True))\n",
        "model.add(tf.keras.layers.LeakyReLU(alpha=1))\n",
        "model.add(tf.keras.layers.LSTM(128, return_sequences=True))\n",
        "model.add(tf.keras.layers.LeakyReLU(alpha=0.4))\n",
        "model.add(tf.keras.layers.Dropout(0.1))\n",
        "model.add(tf.keras.layers.GRU(64, return_sequences=False))\n",
        "model.add(tf.keras.layers.Dropout(0.1))\n",
        "model.add(tf.keras.layers.Dense(3))"
      ],
      "execution_count": null,
      "outputs": []
    },
    {
      "cell_type": "code",
      "metadata": {
        "colab": {
          "base_uri": "https://localhost:8080/"
        },
        "id": "dQMvM-fTCSbW",
        "outputId": "121edc0c-6779-4ac0-e544-e5e21a948353"
      },
      "source": [
        "model.summary()"
      ],
      "execution_count": null,
      "outputs": [
        {
          "output_type": "stream",
          "name": "stdout",
          "text": [
            "Model: \"sequential\"\n",
            "_________________________________________________________________\n",
            " Layer (type)                Output Shape              Param #   \n",
            "=================================================================\n",
            " gru (GRU)                   (None, 288, 128)          50688     \n",
            "                                                                 \n",
            " leaky_re_lu (LeakyReLU)     (None, 288, 128)          0         \n",
            "                                                                 \n",
            " lstm (LSTM)                 (None, 288, 128)          131584    \n",
            "                                                                 \n",
            " leaky_re_lu_1 (LeakyReLU)   (None, 288, 128)          0         \n",
            "                                                                 \n",
            " dropout (Dropout)           (None, 288, 128)          0         \n",
            "                                                                 \n",
            " gru_1 (GRU)                 (None, 64)                37248     \n",
            "                                                                 \n",
            " dropout_1 (Dropout)         (None, 64)                0         \n",
            "                                                                 \n",
            " dense (Dense)               (None, 3)                 195       \n",
            "                                                                 \n",
            "=================================================================\n",
            "Total params: 219,715\n",
            "Trainable params: 219,715\n",
            "Non-trainable params: 0\n",
            "_________________________________________________________________\n"
          ]
        }
      ]
    },
    {
      "cell_type": "code",
      "metadata": {
        "colab": {
          "base_uri": "https://localhost:8080/"
        },
        "id": "w7ZQvRaVCWOA",
        "outputId": "aa986a23-0e2d-448a-ac8f-25e7464b4042"
      },
      "source": [
        "model.compile(loss=tf.losses.MeanSquaredError(),optimizer=tf.optimizers.Adam(),metrics=[tf.metrics.MeanAbsoluteError()])\n",
        "\n",
        "history=model.fit_generator(train_generator, epochs=50, validation_data=test_generator,shuffle=False)"
      ],
      "execution_count": null,
      "outputs": [
        {
          "output_type": "stream",
          "name": "stdout",
          "text": [
            "Epoch 1/50\n"
          ]
        },
        {
          "output_type": "stream",
          "name": "stderr",
          "text": [
            "/usr/local/lib/python3.7/dist-packages/ipykernel_launcher.py:3: UserWarning: `Model.fit_generator` is deprecated and will be removed in a future version. Please use `Model.fit`, which supports generators.\n",
            "  This is separate from the ipykernel package so we can avoid doing imports until\n"
          ]
        },
        {
          "output_type": "stream",
          "name": "stdout",
          "text": [
            "1287/1287 [==============================] - 62s 42ms/step - loss: 0.0032 - mean_absolute_error: 0.0398 - val_loss: 5.0512e-04 - val_mean_absolute_error: 0.0138\n",
            "Epoch 2/50\n",
            "1287/1287 [==============================] - 53s 41ms/step - loss: 0.0011 - mean_absolute_error: 0.0249 - val_loss: 3.3638e-04 - val_mean_absolute_error: 0.0111\n",
            "Epoch 3/50\n",
            "1287/1287 [==============================] - 53s 41ms/step - loss: 8.6776e-04 - mean_absolute_error: 0.0215 - val_loss: 3.2805e-04 - val_mean_absolute_error: 0.0099\n",
            "Epoch 4/50\n",
            "1287/1287 [==============================] - 53s 41ms/step - loss: 8.0065e-04 - mean_absolute_error: 0.0204 - val_loss: 2.9903e-04 - val_mean_absolute_error: 0.0098\n",
            "Epoch 5/50\n",
            "1287/1287 [==============================] - 53s 41ms/step - loss: 9.7210e-04 - mean_absolute_error: 0.0206 - val_loss: 3.9509e-04 - val_mean_absolute_error: 0.0132\n",
            "Epoch 6/50\n",
            "1287/1287 [==============================] - 53s 41ms/step - loss: 6.3469e-04 - mean_absolute_error: 0.0167 - val_loss: 3.1751e-04 - val_mean_absolute_error: 0.0110\n",
            "Epoch 7/50\n",
            "1287/1287 [==============================] - 53s 41ms/step - loss: 7.0052e-04 - mean_absolute_error: 0.0171 - val_loss: 3.5178e-04 - val_mean_absolute_error: 0.0123\n",
            "Epoch 8/50\n",
            "1287/1287 [==============================] - 54s 42ms/step - loss: 5.9259e-04 - mean_absolute_error: 0.0160 - val_loss: 3.0447e-04 - val_mean_absolute_error: 0.0106\n",
            "Epoch 9/50\n",
            "1287/1287 [==============================] - 53s 41ms/step - loss: 4.1341e-04 - mean_absolute_error: 0.0134 - val_loss: 3.3568e-04 - val_mean_absolute_error: 0.0118\n",
            "Epoch 10/50\n",
            "1287/1287 [==============================] - 53s 41ms/step - loss: 5.9126e-04 - mean_absolute_error: 0.0161 - val_loss: 2.8133e-04 - val_mean_absolute_error: 0.0093\n",
            "Epoch 11/50\n",
            "1287/1287 [==============================] - 53s 41ms/step - loss: 5.3830e-04 - mean_absolute_error: 0.0147 - val_loss: 2.5245e-04 - val_mean_absolute_error: 0.0077\n",
            "Epoch 12/50\n",
            "1287/1287 [==============================] - 53s 41ms/step - loss: 4.2120e-04 - mean_absolute_error: 0.0133 - val_loss: 2.6348e-04 - val_mean_absolute_error: 0.0089\n",
            "Epoch 13/50\n",
            "1287/1287 [==============================] - 53s 41ms/step - loss: 4.8520e-04 - mean_absolute_error: 0.0140 - val_loss: 2.3984e-04 - val_mean_absolute_error: 0.0075\n",
            "Epoch 14/50\n",
            "1287/1287 [==============================] - 53s 41ms/step - loss: 4.1820e-04 - mean_absolute_error: 0.0132 - val_loss: 2.6461e-04 - val_mean_absolute_error: 0.0089\n",
            "Epoch 15/50\n",
            "1287/1287 [==============================] - 53s 41ms/step - loss: 3.7924e-04 - mean_absolute_error: 0.0126 - val_loss: 2.8740e-04 - val_mean_absolute_error: 0.0105\n",
            "Epoch 16/50\n",
            "1287/1287 [==============================] - 53s 41ms/step - loss: 4.5586e-04 - mean_absolute_error: 0.0137 - val_loss: 2.3515e-04 - val_mean_absolute_error: 0.0074\n",
            "Epoch 17/50\n",
            "1287/1287 [==============================] - 53s 41ms/step - loss: 3.3769e-04 - mean_absolute_error: 0.0118 - val_loss: 2.2148e-04 - val_mean_absolute_error: 0.0067\n",
            "Epoch 18/50\n",
            "1287/1287 [==============================] - 53s 41ms/step - loss: 3.6997e-04 - mean_absolute_error: 0.0125 - val_loss: 2.3253e-04 - val_mean_absolute_error: 0.0073\n",
            "Epoch 19/50\n",
            "1287/1287 [==============================] - 53s 41ms/step - loss: 3.4026e-04 - mean_absolute_error: 0.0121 - val_loss: 2.4226e-04 - val_mean_absolute_error: 0.0082\n",
            "Epoch 20/50\n",
            "1287/1287 [==============================] - 53s 41ms/step - loss: 4.3881e-04 - mean_absolute_error: 0.0136 - val_loss: 2.3623e-04 - val_mean_absolute_error: 0.0074\n",
            "Epoch 21/50\n",
            "1287/1287 [==============================] - 53s 42ms/step - loss: 3.0495e-04 - mean_absolute_error: 0.0113 - val_loss: 2.1941e-04 - val_mean_absolute_error: 0.0067\n",
            "Epoch 22/50\n",
            "1287/1287 [==============================] - 53s 41ms/step - loss: 3.6433e-04 - mean_absolute_error: 0.0123 - val_loss: 2.2417e-04 - val_mean_absolute_error: 0.0072\n",
            "Epoch 23/50\n",
            "1287/1287 [==============================] - 53s 41ms/step - loss: 3.1667e-04 - mean_absolute_error: 0.0116 - val_loss: 2.2571e-04 - val_mean_absolute_error: 0.0074\n",
            "Epoch 24/50\n",
            "1287/1287 [==============================] - 53s 41ms/step - loss: 3.9854e-04 - mean_absolute_error: 0.0128 - val_loss: 2.0452e-04 - val_mean_absolute_error: 0.0057\n",
            "Epoch 25/50\n",
            "1287/1287 [==============================] - 53s 41ms/step - loss: 3.0504e-04 - mean_absolute_error: 0.0112 - val_loss: 2.1258e-04 - val_mean_absolute_error: 0.0065\n",
            "Epoch 26/50\n",
            "1287/1287 [==============================] - 53s 41ms/step - loss: 3.3877e-04 - mean_absolute_error: 0.0119 - val_loss: 2.2098e-04 - val_mean_absolute_error: 0.0067\n",
            "Epoch 27/50\n",
            "1287/1287 [==============================] - 53s 41ms/step - loss: 3.6184e-04 - mean_absolute_error: 0.0120 - val_loss: 2.0716e-04 - val_mean_absolute_error: 0.0062\n",
            "Epoch 28/50\n",
            "1287/1287 [==============================] - 53s 41ms/step - loss: 2.9212e-04 - mean_absolute_error: 0.0109 - val_loss: 2.1821e-04 - val_mean_absolute_error: 0.0075\n",
            "Epoch 29/50\n",
            "1287/1287 [==============================] - 53s 41ms/step - loss: 3.2771e-04 - mean_absolute_error: 0.0116 - val_loss: 2.1072e-04 - val_mean_absolute_error: 0.0065\n",
            "Epoch 30/50\n",
            "1287/1287 [==============================] - 53s 41ms/step - loss: 3.2253e-04 - mean_absolute_error: 0.0113 - val_loss: 2.2429e-04 - val_mean_absolute_error: 0.0076\n",
            "Epoch 31/50\n",
            "1287/1287 [==============================] - 53s 41ms/step - loss: 2.7232e-04 - mean_absolute_error: 0.0105 - val_loss: 2.1240e-04 - val_mean_absolute_error: 0.0070\n",
            "Epoch 32/50\n",
            "1287/1287 [==============================] - 53s 41ms/step - loss: 3.5307e-04 - mean_absolute_error: 0.0120 - val_loss: 1.9937e-04 - val_mean_absolute_error: 0.0060\n",
            "Epoch 33/50\n",
            "1287/1287 [==============================] - 53s 41ms/step - loss: 2.9453e-04 - mean_absolute_error: 0.0110 - val_loss: 1.9654e-04 - val_mean_absolute_error: 0.0059\n",
            "Epoch 34/50\n",
            "1287/1287 [==============================] - 53s 41ms/step - loss: 2.8485e-04 - mean_absolute_error: 0.0108 - val_loss: 1.9686e-04 - val_mean_absolute_error: 0.0060\n",
            "Epoch 35/50\n",
            "1287/1287 [==============================] - 53s 41ms/step - loss: 3.0097e-04 - mean_absolute_error: 0.0111 - val_loss: 1.9834e-04 - val_mean_absolute_error: 0.0061\n",
            "Epoch 36/50\n",
            "1287/1287 [==============================] - 53s 41ms/step - loss: 2.7885e-04 - mean_absolute_error: 0.0107 - val_loss: 2.0579e-04 - val_mean_absolute_error: 0.0066\n",
            "Epoch 37/50\n",
            "1287/1287 [==============================] - 53s 41ms/step - loss: 3.0811e-04 - mean_absolute_error: 0.0112 - val_loss: 1.9952e-04 - val_mean_absolute_error: 0.0060\n",
            "Epoch 38/50\n",
            "1287/1287 [==============================] - 53s 41ms/step - loss: 2.6037e-04 - mean_absolute_error: 0.0102 - val_loss: 1.9631e-04 - val_mean_absolute_error: 0.0058\n",
            "Epoch 39/50\n",
            "1287/1287 [==============================] - 53s 41ms/step - loss: 2.9321e-04 - mean_absolute_error: 0.0110 - val_loss: 1.9896e-04 - val_mean_absolute_error: 0.0060\n",
            "Epoch 40/50\n",
            "1287/1287 [==============================] - 53s 41ms/step - loss: 2.6376e-04 - mean_absolute_error: 0.0104 - val_loss: 1.9006e-04 - val_mean_absolute_error: 0.0055\n",
            "Epoch 41/50\n",
            "1287/1287 [==============================] - 53s 41ms/step - loss: 2.8478e-04 - mean_absolute_error: 0.0108 - val_loss: 1.9672e-04 - val_mean_absolute_error: 0.0061\n",
            "Epoch 42/50\n",
            "1287/1287 [==============================] - 53s 41ms/step - loss: 2.9322e-04 - mean_absolute_error: 0.0110 - val_loss: 2.0310e-04 - val_mean_absolute_error: 0.0061\n",
            "Epoch 43/50\n",
            "1287/1287 [==============================] - 53s 41ms/step - loss: 2.5626e-04 - mean_absolute_error: 0.0101 - val_loss: 1.9191e-04 - val_mean_absolute_error: 0.0057\n",
            "Epoch 44/50\n",
            "1287/1287 [==============================] - 53s 41ms/step - loss: 2.5163e-04 - mean_absolute_error: 0.0101 - val_loss: 2.0204e-04 - val_mean_absolute_error: 0.0069\n",
            "Epoch 45/50\n",
            "1287/1287 [==============================] - 53s 41ms/step - loss: 3.2220e-04 - mean_absolute_error: 0.0114 - val_loss: 1.9035e-04 - val_mean_absolute_error: 0.0054\n",
            "Epoch 46/50\n",
            "1287/1287 [==============================] - 53s 41ms/step - loss: 2.4136e-04 - mean_absolute_error: 0.0097 - val_loss: 1.9075e-04 - val_mean_absolute_error: 0.0056\n",
            "Epoch 47/50\n",
            "1287/1287 [==============================] - 53s 41ms/step - loss: 3.0860e-04 - mean_absolute_error: 0.0112 - val_loss: 2.0216e-04 - val_mean_absolute_error: 0.0067\n",
            "Epoch 48/50\n",
            "1287/1287 [==============================] - 53s 41ms/step - loss: 2.5333e-04 - mean_absolute_error: 0.0100 - val_loss: 1.8649e-04 - val_mean_absolute_error: 0.0058\n",
            "Epoch 49/50\n",
            "1287/1287 [==============================] - 53s 42ms/step - loss: 2.5640e-04 - mean_absolute_error: 0.0102 - val_loss: 1.9533e-04 - val_mean_absolute_error: 0.0063\n",
            "Epoch 50/50\n",
            "1287/1287 [==============================] - 53s 41ms/step - loss: 2.7604e-04 - mean_absolute_error: 0.0106 - val_loss: 1.9113e-04 - val_mean_absolute_error: 0.0061\n"
          ]
        }
      ]
    },
    {
      "cell_type": "code",
      "metadata": {
        "colab": {
          "base_uri": "https://localhost:8080/"
        },
        "id": "yZCwNaWdtoyN",
        "outputId": "8cb891f6-7a8b-40e6-e449-57c3b70fef30"
      },
      "source": [
        "model.evaluate_generator(test_generator,verbose=0)"
      ],
      "execution_count": null,
      "outputs": [
        {
          "output_type": "stream",
          "name": "stderr",
          "text": [
            "/usr/local/lib/python3.7/dist-packages/ipykernel_launcher.py:1: UserWarning: `Model.evaluate_generator` is deprecated and will be removed in a future version. Please use `Model.evaluate`, which supports generators.\n",
            "  \"\"\"Entry point for launching an IPython kernel.\n"
          ]
        },
        {
          "output_type": "execute_result",
          "data": {
            "text/plain": [
              "[0.0001911348954308778, 0.006091969553381205]"
            ]
          },
          "metadata": {},
          "execution_count": 27
        }
      ]
    },
    {
      "cell_type": "code",
      "metadata": {
        "colab": {
          "base_uri": "https://localhost:8080/"
        },
        "id": "wrC0R41-trco",
        "outputId": "9857bcbf-b7a9-496d-9364-863c33976bc3"
      },
      "source": [
        "predictions=model.predict_generator(test_generator)"
      ],
      "execution_count": null,
      "outputs": [
        {
          "output_type": "stream",
          "name": "stderr",
          "text": [
            "/usr/local/lib/python3.7/dist-packages/ipykernel_launcher.py:1: UserWarning: `Model.predict_generator` is deprecated and will be removed in a future version. Please use `Model.predict`, which supports generators.\n",
            "  \"\"\"Entry point for launching an IPython kernel.\n"
          ]
        }
      ]
    },
    {
      "cell_type": "code",
      "metadata": {
        "colab": {
          "base_uri": "https://localhost:8080/"
        },
        "id": "l2qE6ZA_tuO1",
        "outputId": "ae93e260-bf47-4530-c411-b848b9aaacdc"
      },
      "source": [
        "predictions.shape[0]"
      ],
      "execution_count": null,
      "outputs": [
        {
          "output_type": "execute_result",
          "data": {
            "text/plain": [
              "10080"
            ]
          },
          "metadata": {},
          "execution_count": 29
        }
      ]
    },
    {
      "cell_type": "code",
      "metadata": {
        "colab": {
          "base_uri": "https://localhost:8080/"
        },
        "id": "GsQw7afltwUm",
        "outputId": "c3dc591d-626b-46bf-fa6d-651c8650a191"
      },
      "source": [
        "predictions"
      ],
      "execution_count": null,
      "outputs": [
        {
          "output_type": "execute_result",
          "data": {
            "text/plain": [
              "array([[0.41120166, 0.3994045 , 0.3882119 ],\n",
              "       [0.39249334, 0.37308738, 0.35806444],\n",
              "       [0.33771062, 0.30433604, 0.28250238],\n",
              "       ...,\n",
              "       [0.19972661, 0.19814599, 0.2054702 ],\n",
              "       [0.19530839, 0.20708427, 0.22360675],\n",
              "       [0.205959  , 0.22468668, 0.24232483]], dtype=float32)"
            ]
          },
          "metadata": {},
          "execution_count": 30
        }
      ]
    },
    {
      "cell_type": "code",
      "metadata": {
        "colab": {
          "base_uri": "https://localhost:8080/"
        },
        "id": "zWng60Ytt0mB",
        "outputId": "018b2378-be4b-4ac4-83ca-0f62213f98f1"
      },
      "source": [
        "y_test"
      ],
      "execution_count": null,
      "outputs": [
        {
          "output_type": "execute_result",
          "data": {
            "text/plain": [
              "array([[[0.30493081],\n",
              "        [0.30653576],\n",
              "        [0.36489058]],\n",
              "\n",
              "       [[0.30653576],\n",
              "        [0.36489058],\n",
              "        [0.35468408]],\n",
              "\n",
              "       [[0.36489058],\n",
              "        [0.35468408],\n",
              "        [0.36723862]],\n",
              "\n",
              "       ...,\n",
              "\n",
              "       [[0.19865385],\n",
              "        [0.19287223],\n",
              "        [0.20241705]],\n",
              "\n",
              "       [[0.19287223],\n",
              "        [0.20241705],\n",
              "        [0.21877641]],\n",
              "\n",
              "       [[0.20241705],\n",
              "        [0.21877641],\n",
              "        [0.23086415]]])"
            ]
          },
          "metadata": {},
          "execution_count": 31
        }
      ]
    },
    {
      "cell_type": "code",
      "metadata": {
        "colab": {
          "base_uri": "https://localhost:8080/"
        },
        "id": "YKw9NoFit3SH",
        "outputId": "e3553a08-6c4c-40ea-b0b0-e2641e83ef7d"
      },
      "source": [
        "x_test"
      ],
      "execution_count": null,
      "outputs": [
        {
          "output_type": "execute_result",
          "data": {
            "text/plain": [
              "array([[0.30653576, 0.        ],\n",
              "       [0.36489058, 0.        ],\n",
              "       [0.35468408, 0.        ],\n",
              "       ...,\n",
              "       [0.19287223, 0.        ],\n",
              "       [0.20241705, 0.        ],\n",
              "       [0.21877641, 0.        ]])"
            ]
          },
          "metadata": {},
          "execution_count": 32
        }
      ]
    },
    {
      "cell_type": "code",
      "metadata": {
        "colab": {
          "base_uri": "https://localhost:8080/"
        },
        "id": "ituoQkwPt5yw",
        "outputId": "80eb25f0-43bd-4751-de86-ce5f0dda74ad"
      },
      "source": [
        "x_test[:,1:][win_length:]"
      ],
      "execution_count": null,
      "outputs": [
        {
          "output_type": "execute_result",
          "data": {
            "text/plain": [
              "array([[0.],\n",
              "       [0.],\n",
              "       [0.],\n",
              "       ...,\n",
              "       [0.],\n",
              "       [0.],\n",
              "       [0.]])"
            ]
          },
          "metadata": {},
          "execution_count": 33
        }
      ]
    },
    {
      "cell_type": "code",
      "metadata": {
        "id": "7epuAWfzt9Fb"
      },
      "source": [
        "df_pred=pd.concat([pd.DataFrame(predictions), pd.DataFrame(x_test[:,1:][win_length:])],axis=1)"
      ],
      "execution_count": null,
      "outputs": []
    },
    {
      "cell_type": "code",
      "metadata": {
        "colab": {
          "base_uri": "https://localhost:8080/",
          "height": 423
        },
        "id": "XjhhYqVOt_K5",
        "outputId": "8f2bed19-b011-447b-f5a0-dca8253a832a"
      },
      "source": [
        "df_pred"
      ],
      "execution_count": null,
      "outputs": [
        {
          "output_type": "execute_result",
          "data": {
            "text/html": [
              "\n",
              "  <div id=\"df-1ccb3c7f-32d8-4ff2-aa34-e7c4963eccd8\">\n",
              "    <div class=\"colab-df-container\">\n",
              "      <div>\n",
              "<style scoped>\n",
              "    .dataframe tbody tr th:only-of-type {\n",
              "        vertical-align: middle;\n",
              "    }\n",
              "\n",
              "    .dataframe tbody tr th {\n",
              "        vertical-align: top;\n",
              "    }\n",
              "\n",
              "    .dataframe thead th {\n",
              "        text-align: right;\n",
              "    }\n",
              "</style>\n",
              "<table border=\"1\" class=\"dataframe\">\n",
              "  <thead>\n",
              "    <tr style=\"text-align: right;\">\n",
              "      <th></th>\n",
              "      <th>0</th>\n",
              "      <th>1</th>\n",
              "      <th>2</th>\n",
              "      <th>0</th>\n",
              "    </tr>\n",
              "  </thead>\n",
              "  <tbody>\n",
              "    <tr>\n",
              "      <th>0</th>\n",
              "      <td>0.411202</td>\n",
              "      <td>0.399404</td>\n",
              "      <td>0.388212</td>\n",
              "      <td>0.0</td>\n",
              "    </tr>\n",
              "    <tr>\n",
              "      <th>1</th>\n",
              "      <td>0.392493</td>\n",
              "      <td>0.373087</td>\n",
              "      <td>0.358064</td>\n",
              "      <td>0.0</td>\n",
              "    </tr>\n",
              "    <tr>\n",
              "      <th>2</th>\n",
              "      <td>0.337711</td>\n",
              "      <td>0.304336</td>\n",
              "      <td>0.282502</td>\n",
              "      <td>0.0</td>\n",
              "    </tr>\n",
              "    <tr>\n",
              "      <th>3</th>\n",
              "      <td>0.321367</td>\n",
              "      <td>0.322256</td>\n",
              "      <td>0.327976</td>\n",
              "      <td>0.0</td>\n",
              "    </tr>\n",
              "    <tr>\n",
              "      <th>4</th>\n",
              "      <td>0.333318</td>\n",
              "      <td>0.356369</td>\n",
              "      <td>0.375301</td>\n",
              "      <td>0.0</td>\n",
              "    </tr>\n",
              "    <tr>\n",
              "      <th>...</th>\n",
              "      <td>...</td>\n",
              "      <td>...</td>\n",
              "      <td>...</td>\n",
              "      <td>...</td>\n",
              "    </tr>\n",
              "    <tr>\n",
              "      <th>10075</th>\n",
              "      <td>0.229585</td>\n",
              "      <td>0.222053</td>\n",
              "      <td>0.217620</td>\n",
              "      <td>0.0</td>\n",
              "    </tr>\n",
              "    <tr>\n",
              "      <th>10076</th>\n",
              "      <td>0.214646</td>\n",
              "      <td>0.201850</td>\n",
              "      <td>0.196025</td>\n",
              "      <td>0.0</td>\n",
              "    </tr>\n",
              "    <tr>\n",
              "      <th>10077</th>\n",
              "      <td>0.199727</td>\n",
              "      <td>0.198146</td>\n",
              "      <td>0.205470</td>\n",
              "      <td>0.0</td>\n",
              "    </tr>\n",
              "    <tr>\n",
              "      <th>10078</th>\n",
              "      <td>0.195308</td>\n",
              "      <td>0.207084</td>\n",
              "      <td>0.223607</td>\n",
              "      <td>0.0</td>\n",
              "    </tr>\n",
              "    <tr>\n",
              "      <th>10079</th>\n",
              "      <td>0.205959</td>\n",
              "      <td>0.224687</td>\n",
              "      <td>0.242325</td>\n",
              "      <td>0.0</td>\n",
              "    </tr>\n",
              "  </tbody>\n",
              "</table>\n",
              "<p>10080 rows × 4 columns</p>\n",
              "</div>\n",
              "      <button class=\"colab-df-convert\" onclick=\"convertToInteractive('df-1ccb3c7f-32d8-4ff2-aa34-e7c4963eccd8')\"\n",
              "              title=\"Convert this dataframe to an interactive table.\"\n",
              "              style=\"display:none;\">\n",
              "        \n",
              "  <svg xmlns=\"http://www.w3.org/2000/svg\" height=\"24px\"viewBox=\"0 0 24 24\"\n",
              "       width=\"24px\">\n",
              "    <path d=\"M0 0h24v24H0V0z\" fill=\"none\"/>\n",
              "    <path d=\"M18.56 5.44l.94 2.06.94-2.06 2.06-.94-2.06-.94-.94-2.06-.94 2.06-2.06.94zm-11 1L8.5 8.5l.94-2.06 2.06-.94-2.06-.94L8.5 2.5l-.94 2.06-2.06.94zm10 10l.94 2.06.94-2.06 2.06-.94-2.06-.94-.94-2.06-.94 2.06-2.06.94z\"/><path d=\"M17.41 7.96l-1.37-1.37c-.4-.4-.92-.59-1.43-.59-.52 0-1.04.2-1.43.59L10.3 9.45l-7.72 7.72c-.78.78-.78 2.05 0 2.83L4 21.41c.39.39.9.59 1.41.59.51 0 1.02-.2 1.41-.59l7.78-7.78 2.81-2.81c.8-.78.8-2.07 0-2.86zM5.41 20L4 18.59l7.72-7.72 1.47 1.35L5.41 20z\"/>\n",
              "  </svg>\n",
              "      </button>\n",
              "      \n",
              "  <style>\n",
              "    .colab-df-container {\n",
              "      display:flex;\n",
              "      flex-wrap:wrap;\n",
              "      gap: 12px;\n",
              "    }\n",
              "\n",
              "    .colab-df-convert {\n",
              "      background-color: #E8F0FE;\n",
              "      border: none;\n",
              "      border-radius: 50%;\n",
              "      cursor: pointer;\n",
              "      display: none;\n",
              "      fill: #1967D2;\n",
              "      height: 32px;\n",
              "      padding: 0 0 0 0;\n",
              "      width: 32px;\n",
              "    }\n",
              "\n",
              "    .colab-df-convert:hover {\n",
              "      background-color: #E2EBFA;\n",
              "      box-shadow: 0px 1px 2px rgba(60, 64, 67, 0.3), 0px 1px 3px 1px rgba(60, 64, 67, 0.15);\n",
              "      fill: #174EA6;\n",
              "    }\n",
              "\n",
              "    [theme=dark] .colab-df-convert {\n",
              "      background-color: #3B4455;\n",
              "      fill: #D2E3FC;\n",
              "    }\n",
              "\n",
              "    [theme=dark] .colab-df-convert:hover {\n",
              "      background-color: #434B5C;\n",
              "      box-shadow: 0px 1px 3px 1px rgba(0, 0, 0, 0.15);\n",
              "      filter: drop-shadow(0px 1px 2px rgba(0, 0, 0, 0.3));\n",
              "      fill: #FFFFFF;\n",
              "    }\n",
              "  </style>\n",
              "\n",
              "      <script>\n",
              "        const buttonEl =\n",
              "          document.querySelector('#df-1ccb3c7f-32d8-4ff2-aa34-e7c4963eccd8 button.colab-df-convert');\n",
              "        buttonEl.style.display =\n",
              "          google.colab.kernel.accessAllowed ? 'block' : 'none';\n",
              "\n",
              "        async function convertToInteractive(key) {\n",
              "          const element = document.querySelector('#df-1ccb3c7f-32d8-4ff2-aa34-e7c4963eccd8');\n",
              "          const dataTable =\n",
              "            await google.colab.kernel.invokeFunction('convertToInteractive',\n",
              "                                                     [key], {});\n",
              "          if (!dataTable) return;\n",
              "\n",
              "          const docLinkHtml = 'Like what you see? Visit the ' +\n",
              "            '<a target=\"_blank\" href=https://colab.research.google.com/notebooks/data_table.ipynb>data table notebook</a>'\n",
              "            + ' to learn more about interactive tables.';\n",
              "          element.innerHTML = '';\n",
              "          dataTable['output_type'] = 'display_data';\n",
              "          await google.colab.output.renderOutput(dataTable, element);\n",
              "          const docLink = document.createElement('div');\n",
              "          docLink.innerHTML = docLinkHtml;\n",
              "          element.appendChild(docLink);\n",
              "        }\n",
              "      </script>\n",
              "    </div>\n",
              "  </div>\n",
              "  "
            ],
            "text/plain": [
              "              0         1         2    0\n",
              "0      0.411202  0.399404  0.388212  0.0\n",
              "1      0.392493  0.373087  0.358064  0.0\n",
              "2      0.337711  0.304336  0.282502  0.0\n",
              "3      0.321367  0.322256  0.327976  0.0\n",
              "4      0.333318  0.356369  0.375301  0.0\n",
              "...         ...       ...       ...  ...\n",
              "10075  0.229585  0.222053  0.217620  0.0\n",
              "10076  0.214646  0.201850  0.196025  0.0\n",
              "10077  0.199727  0.198146  0.205470  0.0\n",
              "10078  0.195308  0.207084  0.223607  0.0\n",
              "10079  0.205959  0.224687  0.242325  0.0\n",
              "\n",
              "[10080 rows x 4 columns]"
            ]
          },
          "metadata": {},
          "execution_count": 35
        }
      ]
    },
    {
      "cell_type": "code",
      "metadata": {
        "id": "c_4LKCVeuCkk"
      },
      "source": [
        "rev_trans=scaler1.inverse_transform(df_pred)"
      ],
      "execution_count": null,
      "outputs": []
    },
    {
      "cell_type": "code",
      "metadata": {
        "colab": {
          "base_uri": "https://localhost:8080/"
        },
        "id": "qCbFOlKJuEpc",
        "outputId": "50cbddba-73ac-46e6-825a-f695e02929ff"
      },
      "source": [
        "rev_trans"
      ],
      "execution_count": null,
      "outputs": [
        {
          "output_type": "execute_result",
          "data": {
            "text/plain": [
              "array([[149.4917473 , 146.32179701, 143.31429738,  39.        ],\n",
              "       [144.4647374 , 139.25026778, 135.21353751,  39.        ],\n",
              "       [129.74437284, 120.77647264, 114.90966979,  39.        ],\n",
              "       ...,\n",
              "       [ 92.66744506,  92.24272375,  94.2107745 ,  39.        ],\n",
              "       [ 91.48024823,  94.64448081,  99.08414656,  39.        ],\n",
              "       [ 94.34211803,  99.37432914, 104.11377909,  39.        ]])"
            ]
          },
          "metadata": {},
          "execution_count": 37
        }
      ]
    },
    {
      "cell_type": "code",
      "metadata": {
        "id": "qoBrk7XUuITz"
      },
      "source": [
        "df_final=df_input[predictions.shape[0]*-1:]"
      ],
      "execution_count": null,
      "outputs": []
    },
    {
      "cell_type": "code",
      "metadata": {
        "colab": {
          "base_uri": "https://localhost:8080/"
        },
        "id": "t26hLv_auLcH",
        "outputId": "8a61a61a-08c6-4317-f431-fd0d832c1218"
      },
      "source": [
        "df_final['Predicted CGM']=rev_trans[:,0]\n",
        "df_final['Predicted CGM2']=rev_trans[:,1]\n",
        "df_final['Predicted CGM3']=rev_trans[:,2]"
      ],
      "execution_count": null,
      "outputs": [
        {
          "output_type": "stream",
          "name": "stderr",
          "text": [
            "/usr/local/lib/python3.7/dist-packages/ipykernel_launcher.py:1: SettingWithCopyWarning: \n",
            "A value is trying to be set on a copy of a slice from a DataFrame.\n",
            "Try using .loc[row_indexer,col_indexer] = value instead\n",
            "\n",
            "See the caveats in the documentation: https://pandas.pydata.org/pandas-docs/stable/user_guide/indexing.html#returning-a-view-versus-a-copy\n",
            "  \"\"\"Entry point for launching an IPython kernel.\n",
            "/usr/local/lib/python3.7/dist-packages/ipykernel_launcher.py:2: SettingWithCopyWarning: \n",
            "A value is trying to be set on a copy of a slice from a DataFrame.\n",
            "Try using .loc[row_indexer,col_indexer] = value instead\n",
            "\n",
            "See the caveats in the documentation: https://pandas.pydata.org/pandas-docs/stable/user_guide/indexing.html#returning-a-view-versus-a-copy\n",
            "  \n",
            "/usr/local/lib/python3.7/dist-packages/ipykernel_launcher.py:3: SettingWithCopyWarning: \n",
            "A value is trying to be set on a copy of a slice from a DataFrame.\n",
            "Try using .loc[row_indexer,col_indexer] = value instead\n",
            "\n",
            "See the caveats in the documentation: https://pandas.pydata.org/pandas-docs/stable/user_guide/indexing.html#returning-a-view-versus-a-copy\n",
            "  This is separate from the ipykernel package so we can avoid doing imports until\n"
          ]
        }
      ]
    },
    {
      "cell_type": "code",
      "metadata": {
        "colab": {
          "base_uri": "https://localhost:8080/",
          "height": 423
        },
        "id": "g78YcHIvuOJC",
        "outputId": "ddda2cf3-cf8c-44ed-9ebb-f8ea6a5caf6d"
      },
      "source": [
        "df_final"
      ],
      "execution_count": null,
      "outputs": [
        {
          "output_type": "execute_result",
          "data": {
            "text/html": [
              "\n",
              "  <div id=\"df-dfc2dc21-b7b5-4ce8-a570-6bf8608c5e08\">\n",
              "    <div class=\"colab-df-container\">\n",
              "      <div>\n",
              "<style scoped>\n",
              "    .dataframe tbody tr th:only-of-type {\n",
              "        vertical-align: middle;\n",
              "    }\n",
              "\n",
              "    .dataframe tbody tr th {\n",
              "        vertical-align: top;\n",
              "    }\n",
              "\n",
              "    .dataframe thead th {\n",
              "        text-align: right;\n",
              "    }\n",
              "</style>\n",
              "<table border=\"1\" class=\"dataframe\">\n",
              "  <thead>\n",
              "    <tr style=\"text-align: right;\">\n",
              "      <th></th>\n",
              "      <th>CGM</th>\n",
              "      <th>CHO</th>\n",
              "      <th>Predicted CGM</th>\n",
              "      <th>Predicted CGM2</th>\n",
              "      <th>Predicted CGM3</th>\n",
              "    </tr>\n",
              "  </thead>\n",
              "  <tbody>\n",
              "    <tr>\n",
              "      <th>41760</th>\n",
              "      <td>130.686555</td>\n",
              "      <td>0.0</td>\n",
              "      <td>149.491747</td>\n",
              "      <td>146.321797</td>\n",
              "      <td>143.314297</td>\n",
              "    </tr>\n",
              "    <tr>\n",
              "      <th>41761</th>\n",
              "      <td>127.107751</td>\n",
              "      <td>0.0</td>\n",
              "      <td>144.464737</td>\n",
              "      <td>139.250268</td>\n",
              "      <td>135.213538</td>\n",
              "    </tr>\n",
              "    <tr>\n",
              "      <th>41762</th>\n",
              "      <td>129.636901</td>\n",
              "      <td>0.0</td>\n",
              "      <td>129.744373</td>\n",
              "      <td>120.776473</td>\n",
              "      <td>114.909670</td>\n",
              "    </tr>\n",
              "    <tr>\n",
              "      <th>41763</th>\n",
              "      <td>135.378355</td>\n",
              "      <td>0.0</td>\n",
              "      <td>125.352671</td>\n",
              "      <td>125.591686</td>\n",
              "      <td>127.128569</td>\n",
              "    </tr>\n",
              "    <tr>\n",
              "      <th>41764</th>\n",
              "      <td>142.224317</td>\n",
              "      <td>0.0</td>\n",
              "      <td>128.564039</td>\n",
              "      <td>134.757969</td>\n",
              "      <td>139.845208</td>\n",
              "    </tr>\n",
              "    <tr>\n",
              "      <th>...</th>\n",
              "      <td>...</td>\n",
              "      <td>...</td>\n",
              "      <td>...</td>\n",
              "      <td>...</td>\n",
              "      <td>...</td>\n",
              "    </tr>\n",
              "    <tr>\n",
              "      <th>51835</th>\n",
              "      <td>92.379190</td>\n",
              "      <td>0.0</td>\n",
              "      <td>100.690559</td>\n",
              "      <td>98.666745</td>\n",
              "      <td>97.475396</td>\n",
              "    </tr>\n",
              "    <tr>\n",
              "      <th>51836</th>\n",
              "      <td>90.825641</td>\n",
              "      <td>0.0</td>\n",
              "      <td>96.676412</td>\n",
              "      <td>93.237956</td>\n",
              "      <td>91.672741</td>\n",
              "    </tr>\n",
              "    <tr>\n",
              "      <th>51837</th>\n",
              "      <td>93.390377</td>\n",
              "      <td>0.0</td>\n",
              "      <td>92.667445</td>\n",
              "      <td>92.242724</td>\n",
              "      <td>94.210775</td>\n",
              "    </tr>\n",
              "    <tr>\n",
              "      <th>51838</th>\n",
              "      <td>97.786213</td>\n",
              "      <td>0.0</td>\n",
              "      <td>91.480248</td>\n",
              "      <td>94.644481</td>\n",
              "      <td>99.084147</td>\n",
              "    </tr>\n",
              "    <tr>\n",
              "      <th>51839</th>\n",
              "      <td>101.034242</td>\n",
              "      <td>0.0</td>\n",
              "      <td>94.342118</td>\n",
              "      <td>99.374329</td>\n",
              "      <td>104.113779</td>\n",
              "    </tr>\n",
              "  </tbody>\n",
              "</table>\n",
              "<p>10080 rows × 5 columns</p>\n",
              "</div>\n",
              "      <button class=\"colab-df-convert\" onclick=\"convertToInteractive('df-dfc2dc21-b7b5-4ce8-a570-6bf8608c5e08')\"\n",
              "              title=\"Convert this dataframe to an interactive table.\"\n",
              "              style=\"display:none;\">\n",
              "        \n",
              "  <svg xmlns=\"http://www.w3.org/2000/svg\" height=\"24px\"viewBox=\"0 0 24 24\"\n",
              "       width=\"24px\">\n",
              "    <path d=\"M0 0h24v24H0V0z\" fill=\"none\"/>\n",
              "    <path d=\"M18.56 5.44l.94 2.06.94-2.06 2.06-.94-2.06-.94-.94-2.06-.94 2.06-2.06.94zm-11 1L8.5 8.5l.94-2.06 2.06-.94-2.06-.94L8.5 2.5l-.94 2.06-2.06.94zm10 10l.94 2.06.94-2.06 2.06-.94-2.06-.94-.94-2.06-.94 2.06-2.06.94z\"/><path d=\"M17.41 7.96l-1.37-1.37c-.4-.4-.92-.59-1.43-.59-.52 0-1.04.2-1.43.59L10.3 9.45l-7.72 7.72c-.78.78-.78 2.05 0 2.83L4 21.41c.39.39.9.59 1.41.59.51 0 1.02-.2 1.41-.59l7.78-7.78 2.81-2.81c.8-.78.8-2.07 0-2.86zM5.41 20L4 18.59l7.72-7.72 1.47 1.35L5.41 20z\"/>\n",
              "  </svg>\n",
              "      </button>\n",
              "      \n",
              "  <style>\n",
              "    .colab-df-container {\n",
              "      display:flex;\n",
              "      flex-wrap:wrap;\n",
              "      gap: 12px;\n",
              "    }\n",
              "\n",
              "    .colab-df-convert {\n",
              "      background-color: #E8F0FE;\n",
              "      border: none;\n",
              "      border-radius: 50%;\n",
              "      cursor: pointer;\n",
              "      display: none;\n",
              "      fill: #1967D2;\n",
              "      height: 32px;\n",
              "      padding: 0 0 0 0;\n",
              "      width: 32px;\n",
              "    }\n",
              "\n",
              "    .colab-df-convert:hover {\n",
              "      background-color: #E2EBFA;\n",
              "      box-shadow: 0px 1px 2px rgba(60, 64, 67, 0.3), 0px 1px 3px 1px rgba(60, 64, 67, 0.15);\n",
              "      fill: #174EA6;\n",
              "    }\n",
              "\n",
              "    [theme=dark] .colab-df-convert {\n",
              "      background-color: #3B4455;\n",
              "      fill: #D2E3FC;\n",
              "    }\n",
              "\n",
              "    [theme=dark] .colab-df-convert:hover {\n",
              "      background-color: #434B5C;\n",
              "      box-shadow: 0px 1px 3px 1px rgba(0, 0, 0, 0.15);\n",
              "      filter: drop-shadow(0px 1px 2px rgba(0, 0, 0, 0.3));\n",
              "      fill: #FFFFFF;\n",
              "    }\n",
              "  </style>\n",
              "\n",
              "      <script>\n",
              "        const buttonEl =\n",
              "          document.querySelector('#df-dfc2dc21-b7b5-4ce8-a570-6bf8608c5e08 button.colab-df-convert');\n",
              "        buttonEl.style.display =\n",
              "          google.colab.kernel.accessAllowed ? 'block' : 'none';\n",
              "\n",
              "        async function convertToInteractive(key) {\n",
              "          const element = document.querySelector('#df-dfc2dc21-b7b5-4ce8-a570-6bf8608c5e08');\n",
              "          const dataTable =\n",
              "            await google.colab.kernel.invokeFunction('convertToInteractive',\n",
              "                                                     [key], {});\n",
              "          if (!dataTable) return;\n",
              "\n",
              "          const docLinkHtml = 'Like what you see? Visit the ' +\n",
              "            '<a target=\"_blank\" href=https://colab.research.google.com/notebooks/data_table.ipynb>data table notebook</a>'\n",
              "            + ' to learn more about interactive tables.';\n",
              "          element.innerHTML = '';\n",
              "          dataTable['output_type'] = 'display_data';\n",
              "          await google.colab.output.renderOutput(dataTable, element);\n",
              "          const docLink = document.createElement('div');\n",
              "          docLink.innerHTML = docLinkHtml;\n",
              "          element.appendChild(docLink);\n",
              "        }\n",
              "      </script>\n",
              "    </div>\n",
              "  </div>\n",
              "  "
            ],
            "text/plain": [
              "              CGM  CHO  Predicted CGM  Predicted CGM2  Predicted CGM3\n",
              "41760  130.686555  0.0     149.491747      146.321797      143.314297\n",
              "41761  127.107751  0.0     144.464737      139.250268      135.213538\n",
              "41762  129.636901  0.0     129.744373      120.776473      114.909670\n",
              "41763  135.378355  0.0     125.352671      125.591686      127.128569\n",
              "41764  142.224317  0.0     128.564039      134.757969      139.845208\n",
              "...           ...  ...            ...             ...             ...\n",
              "51835   92.379190  0.0     100.690559       98.666745       97.475396\n",
              "51836   90.825641  0.0      96.676412       93.237956       91.672741\n",
              "51837   93.390377  0.0      92.667445       92.242724       94.210775\n",
              "51838   97.786213  0.0      91.480248       94.644481       99.084147\n",
              "51839  101.034242  0.0      94.342118       99.374329      104.113779\n",
              "\n",
              "[10080 rows x 5 columns]"
            ]
          },
          "metadata": {},
          "execution_count": 40
        }
      ]
    },
    {
      "cell_type": "code",
      "metadata": {
        "id": "16QqdnAouTMD"
      },
      "source": [
        "l2=df_final.iloc[:,2:5].values"
      ],
      "execution_count": null,
      "outputs": []
    },
    {
      "cell_type": "code",
      "metadata": {
        "id": "cFq_0Y6OuWBj"
      },
      "source": [
        "z1=df_final.iloc[:,0:1].values"
      ],
      "execution_count": null,
      "outputs": []
    },
    {
      "cell_type": "code",
      "metadata": {
        "id": "3SwQozSBuZ-d"
      },
      "source": [
        "z11= numpy.roll(z1,-1)"
      ],
      "execution_count": null,
      "outputs": []
    },
    {
      "cell_type": "code",
      "metadata": {
        "id": "8fTnMZmYucsY"
      },
      "source": [
        "z22= numpy.roll(z1,-2)"
      ],
      "execution_count": null,
      "outputs": []
    },
    {
      "cell_type": "code",
      "metadata": {
        "id": "MPDFTaJTufXD"
      },
      "source": [
        "z_1 = z1.reshape((len(z1), 1))\n",
        "z_2 = z11.reshape((len(z11),1))\n",
        "z_3 = z22.reshape((len(z22), 1))"
      ],
      "execution_count": null,
      "outputs": []
    },
    {
      "cell_type": "code",
      "metadata": {
        "id": "Ymb_gIC0uir1"
      },
      "source": [
        "origin_cgm_data = hstack((z_1,z_2,z_3))"
      ],
      "execution_count": null,
      "outputs": []
    },
    {
      "cell_type": "code",
      "metadata": {
        "id": "beaq_5wVul1e"
      },
      "source": [
        "q=len(origin_cgm_data) \n",
        "origin_CGM_data=origin_cgm_data[:q-2]"
      ],
      "execution_count": null,
      "outputs": []
    },
    {
      "cell_type": "code",
      "metadata": {
        "id": "7kRFV8AcurMH"
      },
      "source": [
        "zf=pd.DataFrame(origin_CGM_data, columns = ['Original CGM at T0' , 'Original CGM at T1', 'Original CGM at T2'])"
      ],
      "execution_count": null,
      "outputs": []
    },
    {
      "cell_type": "code",
      "metadata": {
        "id": "KU_yx6dGut35"
      },
      "source": [
        "lf=pd.DataFrame(l2, columns = ['Predicted CGM at T0' , 'Predicted CGM at T1', 'Predicted CGM at T2'])"
      ],
      "execution_count": null,
      "outputs": []
    },
    {
      "cell_type": "code",
      "metadata": {
        "colab": {
          "base_uri": "https://localhost:8080/",
          "height": 423
        },
        "id": "7izRIS6vuw2U",
        "outputId": "e2678bdc-e8a8-4a7c-df99-f5316d2eb07d"
      },
      "source": [
        "result = pd.concat([zf, lf], axis=1, join='inner')\n",
        "display(result)"
      ],
      "execution_count": null,
      "outputs": [
        {
          "output_type": "display_data",
          "data": {
            "text/html": [
              "\n",
              "  <div id=\"df-c2bd3f8c-3ec4-4f77-9a88-238064dce2c3\">\n",
              "    <div class=\"colab-df-container\">\n",
              "      <div>\n",
              "<style scoped>\n",
              "    .dataframe tbody tr th:only-of-type {\n",
              "        vertical-align: middle;\n",
              "    }\n",
              "\n",
              "    .dataframe tbody tr th {\n",
              "        vertical-align: top;\n",
              "    }\n",
              "\n",
              "    .dataframe thead th {\n",
              "        text-align: right;\n",
              "    }\n",
              "</style>\n",
              "<table border=\"1\" class=\"dataframe\">\n",
              "  <thead>\n",
              "    <tr style=\"text-align: right;\">\n",
              "      <th></th>\n",
              "      <th>Original CGM at T0</th>\n",
              "      <th>Original CGM at T1</th>\n",
              "      <th>Original CGM at T2</th>\n",
              "      <th>Predicted CGM at T0</th>\n",
              "      <th>Predicted CGM at T1</th>\n",
              "      <th>Predicted CGM at T2</th>\n",
              "    </tr>\n",
              "  </thead>\n",
              "  <tbody>\n",
              "    <tr>\n",
              "      <th>0</th>\n",
              "      <td>130.686555</td>\n",
              "      <td>127.107751</td>\n",
              "      <td>129.636901</td>\n",
              "      <td>149.491747</td>\n",
              "      <td>146.321797</td>\n",
              "      <td>143.314297</td>\n",
              "    </tr>\n",
              "    <tr>\n",
              "      <th>1</th>\n",
              "      <td>127.107751</td>\n",
              "      <td>129.636901</td>\n",
              "      <td>135.378355</td>\n",
              "      <td>144.464737</td>\n",
              "      <td>139.250268</td>\n",
              "      <td>135.213538</td>\n",
              "    </tr>\n",
              "    <tr>\n",
              "      <th>2</th>\n",
              "      <td>129.636901</td>\n",
              "      <td>135.378355</td>\n",
              "      <td>142.224317</td>\n",
              "      <td>129.744373</td>\n",
              "      <td>120.776473</td>\n",
              "      <td>114.909670</td>\n",
              "    </tr>\n",
              "    <tr>\n",
              "      <th>3</th>\n",
              "      <td>135.378355</td>\n",
              "      <td>142.224317</td>\n",
              "      <td>148.158435</td>\n",
              "      <td>125.352671</td>\n",
              "      <td>125.591686</td>\n",
              "      <td>127.128569</td>\n",
              "    </tr>\n",
              "    <tr>\n",
              "      <th>4</th>\n",
              "      <td>142.224317</td>\n",
              "      <td>148.158435</td>\n",
              "      <td>151.895907</td>\n",
              "      <td>128.564039</td>\n",
              "      <td>134.757969</td>\n",
              "      <td>139.845208</td>\n",
              "    </tr>\n",
              "    <tr>\n",
              "      <th>...</th>\n",
              "      <td>...</td>\n",
              "      <td>...</td>\n",
              "      <td>...</td>\n",
              "      <td>...</td>\n",
              "      <td>...</td>\n",
              "      <td>...</td>\n",
              "    </tr>\n",
              "    <tr>\n",
              "      <th>10073</th>\n",
              "      <td>100.770329</td>\n",
              "      <td>96.710152</td>\n",
              "      <td>92.379190</td>\n",
              "      <td>101.661764</td>\n",
              "      <td>103.857791</td>\n",
              "      <td>106.443224</td>\n",
              "    </tr>\n",
              "    <tr>\n",
              "      <th>10074</th>\n",
              "      <td>96.710152</td>\n",
              "      <td>92.379190</td>\n",
              "      <td>90.825641</td>\n",
              "      <td>102.128359</td>\n",
              "      <td>102.264912</td>\n",
              "      <td>102.300796</td>\n",
              "    </tr>\n",
              "    <tr>\n",
              "      <th>10075</th>\n",
              "      <td>92.379190</td>\n",
              "      <td>90.825641</td>\n",
              "      <td>93.390377</td>\n",
              "      <td>100.690559</td>\n",
              "      <td>98.666745</td>\n",
              "      <td>97.475396</td>\n",
              "    </tr>\n",
              "    <tr>\n",
              "      <th>10076</th>\n",
              "      <td>90.825641</td>\n",
              "      <td>93.390377</td>\n",
              "      <td>97.786213</td>\n",
              "      <td>96.676412</td>\n",
              "      <td>93.237956</td>\n",
              "      <td>91.672741</td>\n",
              "    </tr>\n",
              "    <tr>\n",
              "      <th>10077</th>\n",
              "      <td>93.390377</td>\n",
              "      <td>97.786213</td>\n",
              "      <td>101.034242</td>\n",
              "      <td>92.667445</td>\n",
              "      <td>92.242724</td>\n",
              "      <td>94.210775</td>\n",
              "    </tr>\n",
              "  </tbody>\n",
              "</table>\n",
              "<p>10078 rows × 6 columns</p>\n",
              "</div>\n",
              "      <button class=\"colab-df-convert\" onclick=\"convertToInteractive('df-c2bd3f8c-3ec4-4f77-9a88-238064dce2c3')\"\n",
              "              title=\"Convert this dataframe to an interactive table.\"\n",
              "              style=\"display:none;\">\n",
              "        \n",
              "  <svg xmlns=\"http://www.w3.org/2000/svg\" height=\"24px\"viewBox=\"0 0 24 24\"\n",
              "       width=\"24px\">\n",
              "    <path d=\"M0 0h24v24H0V0z\" fill=\"none\"/>\n",
              "    <path d=\"M18.56 5.44l.94 2.06.94-2.06 2.06-.94-2.06-.94-.94-2.06-.94 2.06-2.06.94zm-11 1L8.5 8.5l.94-2.06 2.06-.94-2.06-.94L8.5 2.5l-.94 2.06-2.06.94zm10 10l.94 2.06.94-2.06 2.06-.94-2.06-.94-.94-2.06-.94 2.06-2.06.94z\"/><path d=\"M17.41 7.96l-1.37-1.37c-.4-.4-.92-.59-1.43-.59-.52 0-1.04.2-1.43.59L10.3 9.45l-7.72 7.72c-.78.78-.78 2.05 0 2.83L4 21.41c.39.39.9.59 1.41.59.51 0 1.02-.2 1.41-.59l7.78-7.78 2.81-2.81c.8-.78.8-2.07 0-2.86zM5.41 20L4 18.59l7.72-7.72 1.47 1.35L5.41 20z\"/>\n",
              "  </svg>\n",
              "      </button>\n",
              "      \n",
              "  <style>\n",
              "    .colab-df-container {\n",
              "      display:flex;\n",
              "      flex-wrap:wrap;\n",
              "      gap: 12px;\n",
              "    }\n",
              "\n",
              "    .colab-df-convert {\n",
              "      background-color: #E8F0FE;\n",
              "      border: none;\n",
              "      border-radius: 50%;\n",
              "      cursor: pointer;\n",
              "      display: none;\n",
              "      fill: #1967D2;\n",
              "      height: 32px;\n",
              "      padding: 0 0 0 0;\n",
              "      width: 32px;\n",
              "    }\n",
              "\n",
              "    .colab-df-convert:hover {\n",
              "      background-color: #E2EBFA;\n",
              "      box-shadow: 0px 1px 2px rgba(60, 64, 67, 0.3), 0px 1px 3px 1px rgba(60, 64, 67, 0.15);\n",
              "      fill: #174EA6;\n",
              "    }\n",
              "\n",
              "    [theme=dark] .colab-df-convert {\n",
              "      background-color: #3B4455;\n",
              "      fill: #D2E3FC;\n",
              "    }\n",
              "\n",
              "    [theme=dark] .colab-df-convert:hover {\n",
              "      background-color: #434B5C;\n",
              "      box-shadow: 0px 1px 3px 1px rgba(0, 0, 0, 0.15);\n",
              "      filter: drop-shadow(0px 1px 2px rgba(0, 0, 0, 0.3));\n",
              "      fill: #FFFFFF;\n",
              "    }\n",
              "  </style>\n",
              "\n",
              "      <script>\n",
              "        const buttonEl =\n",
              "          document.querySelector('#df-c2bd3f8c-3ec4-4f77-9a88-238064dce2c3 button.colab-df-convert');\n",
              "        buttonEl.style.display =\n",
              "          google.colab.kernel.accessAllowed ? 'block' : 'none';\n",
              "\n",
              "        async function convertToInteractive(key) {\n",
              "          const element = document.querySelector('#df-c2bd3f8c-3ec4-4f77-9a88-238064dce2c3');\n",
              "          const dataTable =\n",
              "            await google.colab.kernel.invokeFunction('convertToInteractive',\n",
              "                                                     [key], {});\n",
              "          if (!dataTable) return;\n",
              "\n",
              "          const docLinkHtml = 'Like what you see? Visit the ' +\n",
              "            '<a target=\"_blank\" href=https://colab.research.google.com/notebooks/data_table.ipynb>data table notebook</a>'\n",
              "            + ' to learn more about interactive tables.';\n",
              "          element.innerHTML = '';\n",
              "          dataTable['output_type'] = 'display_data';\n",
              "          await google.colab.output.renderOutput(dataTable, element);\n",
              "          const docLink = document.createElement('div');\n",
              "          docLink.innerHTML = docLinkHtml;\n",
              "          element.appendChild(docLink);\n",
              "        }\n",
              "      </script>\n",
              "    </div>\n",
              "  </div>\n",
              "  "
            ],
            "text/plain": [
              "       Original CGM at T0  ...  Predicted CGM at T2\n",
              "0              130.686555  ...           143.314297\n",
              "1              127.107751  ...           135.213538\n",
              "2              129.636901  ...           114.909670\n",
              "3              135.378355  ...           127.128569\n",
              "4              142.224317  ...           139.845208\n",
              "...                   ...  ...                  ...\n",
              "10073          100.770329  ...           106.443224\n",
              "10074           96.710152  ...           102.300796\n",
              "10075           92.379190  ...            97.475396\n",
              "10076           90.825641  ...            91.672741\n",
              "10077           93.390377  ...            94.210775\n",
              "\n",
              "[10078 rows x 6 columns]"
            ]
          },
          "metadata": {}
        }
      ]
    },
    {
      "cell_type": "code",
      "metadata": {
        "colab": {
          "base_uri": "https://localhost:8080/",
          "height": 295
        },
        "id": "qTH0mZ9su0mT",
        "outputId": "13c5c4af-8755-438c-a095-16ac7a08a2bc"
      },
      "source": [
        "plt.plot(zf[0:60],label='Real value of CGM')\n",
        "plt.plot(lf[0:60],label='Predicted value of CGM')\n",
        "plt.title(\"CGM value prediction with 15 min Prediction Horizon\")\n",
        "plt.xlabel('Time Points')\n",
        "plt.ylabel('Glucose Value')\n",
        "plt.legend()\n",
        "plt.show()"
      ],
      "execution_count": null,
      "outputs": [
        {
          "output_type": "display_data",
          "data": {
            "image/png": "[encoded data removed]",
            "text/plain": [
              "<Figure size 432x288 with 1 Axes>"
            ]
          },
          "metadata": {
            "needs_background": "light"
          }
        }
      ]
    },
    {
      "cell_type": "markdown",
      "metadata": {
        "id": "97TDC7xDgmU7"
      },
      "source": [
        "**MAE**"
      ]
    },
    {
      "cell_type": "code",
      "metadata": {
        "colab": {
          "base_uri": "https://localhost:8080/"
        },
        "id": "5CSyod8dgD0h",
        "outputId": "ee534555-52cc-4f57-d41c-4fff36c42dfb"
      },
      "source": [
        "from sklearn.metrics import mean_absolute_error\n",
        "MAE= mean_absolute_error(result['Original CGM at T0'][5:],result['Predicted CGM at T2'][5:])\n",
        "print(MAE)"
      ],
      "execution_count": null,
      "outputs": [
        {
          "output_type": "stream",
          "name": "stdout",
          "text": [
            "2.879709580356348\n"
          ]
        }
      ]
    },
    {
      "cell_type": "markdown",
      "metadata": {
        "id": "hNJnelyMgofs"
      },
      "source": [
        "**RMSE**"
      ]
    },
    {
      "cell_type": "code",
      "metadata": {
        "colab": {
          "base_uri": "https://localhost:8080/"
        },
        "id": "Y7A9qxo77iyF",
        "outputId": "f55c9547-dedc-460d-f05d-b150988fc840"
      },
      "source": [
        "from sklearn.metrics import mean_squared_error\n",
        "from math import sqrt\n",
        "rmse=sqrt(mean_squared_error(result['Original CGM at T0'][5:],result['Predicted CGM at T2'][5:]))\n",
        "print(rmse)"
      ],
      "execution_count": null,
      "outputs": [
        {
          "output_type": "stream",
          "name": "stdout",
          "text": [
            "5.370674748241019\n"
          ]
        }
      ]
    },
    {
      "cell_type": "markdown",
      "metadata": {
        "id": "8Uwjs5Stgrf_"
      },
      "source": [
        "**MARD**"
      ]
    },
    {
      "cell_type": "code",
      "metadata": {
        "colab": {
          "base_uri": "https://localhost:8080/"
        },
        "id": "OsbxNoY_9jiU",
        "outputId": "9ba46af0-93f2-41c3-9276-c7a5069a559e"
      },
      "source": [
        "summation = 0\n",
        "n = len(result['Original CGM at T1'])                                                 \n",
        "for i in range (5,n):                                      \n",
        "  difference = abs(result['Original CGM at T0'][i] - result['Predicted CGM at T2'][i])                            \n",
        "  Devide_Part = difference/result['Original CGM at T0'][i]                       \n",
        "  summation = summation + Devide_Part                \n",
        "MARD = summation/n *100                                           \n",
        "print(MARD)"
      ],
      "execution_count": null,
      "outputs": [
        {
          "output_type": "stream",
          "name": "stdout",
          "text": [
            "2.3628400859561127\n"
          ]
        }
      ]
    },
    {
      "cell_type": "markdown",
      "metadata": {
        "id": "tI9wRWogzYgz"
      },
      "source": [
        "**For MARD Calculation**"
      ]
    },
    {
      "cell_type": "code",
      "metadata": {
        "colab": {
          "base_uri": "https://localhost:8080/"
        },
        "id": "IE3KU_Wzu_rC",
        "outputId": "7bda6540-c57e-40b0-b41a-33cf24d09d18"
      },
      "source": [
        "summation = 0\n",
        "n = len(origin_cgm_data)                                                 \n",
        "for i in range (0,n):                                      \n",
        "  difference = abs(origin_cgm_data[i] - l2[i])                            \n",
        "  Devide_Part = difference/origin_cgm_data[i]                        \n",
        "  summation = summation + Devide_Part                \n",
        "MARD = summation/n *100                                           \n",
        "print(MARD)"
      ],
      "execution_count": null,
      "outputs": [
        {
          "output_type": "stream",
          "name": "stdout",
          "text": [
            "[3.41703107 4.51988241 5.44138377]\n"
          ]
        }
      ]
    },
    {
      "cell_type": "code",
      "metadata": {
        "colab": {
          "base_uri": "https://localhost:8080/"
        },
        "id": "7B3Azu54n-6J",
        "outputId": "c2c843c7-fc2f-4cd0-ff8d-1de3c2c40acc"
      },
      "source": [
        "def Average(lst):\n",
        "    return sum(lst) / len(lst)\n",
        "lst = [6.95359671, 7.56807031, 8.37607911]\n",
        "average = Average(lst)\n",
        "average"
      ],
      "execution_count": null,
      "outputs": [
        {
          "output_type": "execute_result",
          "data": {
            "text/plain": [
              "7.632582043333334"
            ]
          },
          "metadata": {},
          "execution_count": 564
        }
      ]
    },
    {
      "cell_type": "code",
      "metadata": {
        "colab": {
          "base_uri": "https://localhost:8080/",
          "height": 295
        },
        "id": "q14VW46WvHDw",
        "outputId": "1cf3a56e-383b-4646-8d3b-bd15907fc892"
      },
      "source": [
        "plt.plot(df['CGM'][2592:],label='Original Glucose Value')\n",
        "plt.plot(df_final['Predicted CGM'], '--',color=\"Red\", label='Predicted Glucose Value at T=5 min')\n",
        "plt.plot(df_final['Predicted CGM2'], '^',color=\"Purple\", label='Predicted Glucose Value at T=10 min')\n",
        "plt.plot(df_final['Predicted CGM3'], 'd',color=\"Green\", label='Predictied Value Glucose at T=15 min')\n",
        "mpl.rcParams['figure.figsize'] = (22,12)\n",
        "plt.title(\"CGM value prediction with 15 min Prediction Horizon\")\n",
        "plt.xlabel('Time Points')\n",
        "plt.ylabel('Glucose Value (mg/dL)')\n",
        "plt.legend()\n",
        "plt.show()"
      ],
      "execution_count": null,
      "outputs": [
        {
          "output_type": "display_data",
          "data": {
            "image/png": "[encoded data removed]",
            "text/plain": [
              "<Figure size 432x288 with 1 Axes>"
            ]
          },
          "metadata": {
            "needs_background": "light"
          }
        }
      ]
    },
    {
      "cell_type": "code",
      "metadata": {
        "colab": {
          "base_uri": "https://localhost:8080/",
          "height": 423
        },
        "id": "X2iU47n-vXgZ",
        "outputId": "d652401f-4b1b-4ea5-8c83-98436e790637"
      },
      "source": [
        "df_final"
      ],
      "execution_count": null,
      "outputs": [
        {
          "output_type": "execute_result",
          "data": {
            "text/html": [
              "<div>\n",
              "<style scoped>\n",
              "    .dataframe tbody tr th:only-of-type {\n",
              "        vertical-align: middle;\n",
              "    }\n",
              "\n",
              "    .dataframe tbody tr th {\n",
              "        vertical-align: top;\n",
              "    }\n",
              "\n",
              "    .dataframe thead th {\n",
              "        text-align: right;\n",
              "    }\n",
              "</style>\n",
              "<table border=\"1\" class=\"dataframe\">\n",
              "  <thead>\n",
              "    <tr style=\"text-align: right;\">\n",
              "      <th></th>\n",
              "      <th>CGM</th>\n",
              "      <th>CHO</th>\n",
              "      <th>Predicted CGM</th>\n",
              "      <th>Predicted CGM2</th>\n",
              "      <th>Predicted CGM3</th>\n",
              "    </tr>\n",
              "  </thead>\n",
              "  <tbody>\n",
              "    <tr>\n",
              "      <th>2592</th>\n",
              "      <td>155.667044</td>\n",
              "      <td>0.0</td>\n",
              "      <td>103.777781</td>\n",
              "      <td>104.381725</td>\n",
              "      <td>105.546423</td>\n",
              "    </tr>\n",
              "    <tr>\n",
              "      <th>2593</th>\n",
              "      <td>156.490644</td>\n",
              "      <td>0.0</td>\n",
              "      <td>103.665067</td>\n",
              "      <td>104.899418</td>\n",
              "      <td>106.538355</td>\n",
              "    </tr>\n",
              "    <tr>\n",
              "      <th>2594</th>\n",
              "      <td>160.077362</td>\n",
              "      <td>0.0</td>\n",
              "      <td>145.559724</td>\n",
              "      <td>159.522244</td>\n",
              "      <td>170.196399</td>\n",
              "    </tr>\n",
              "    <tr>\n",
              "      <th>2595</th>\n",
              "      <td>164.524153</td>\n",
              "      <td>0.0</td>\n",
              "      <td>154.395378</td>\n",
              "      <td>156.803098</td>\n",
              "      <td>157.525658</td>\n",
              "    </tr>\n",
              "    <tr>\n",
              "      <th>2596</th>\n",
              "      <td>167.896745</td>\n",
              "      <td>0.0</td>\n",
              "      <td>161.083690</td>\n",
              "      <td>160.286144</td>\n",
              "      <td>158.219014</td>\n",
              "    </tr>\n",
              "    <tr>\n",
              "      <th>...</th>\n",
              "      <td>...</td>\n",
              "      <td>...</td>\n",
              "      <td>...</td>\n",
              "      <td>...</td>\n",
              "      <td>...</td>\n",
              "    </tr>\n",
              "    <tr>\n",
              "      <th>2875</th>\n",
              "      <td>153.265374</td>\n",
              "      <td>0.0</td>\n",
              "      <td>145.557248</td>\n",
              "      <td>147.289786</td>\n",
              "      <td>148.724248</td>\n",
              "    </tr>\n",
              "    <tr>\n",
              "      <th>2876</th>\n",
              "      <td>155.444183</td>\n",
              "      <td>0.0</td>\n",
              "      <td>150.285781</td>\n",
              "      <td>152.894347</td>\n",
              "      <td>154.828023</td>\n",
              "    </tr>\n",
              "    <tr>\n",
              "      <th>2877</th>\n",
              "      <td>154.115020</td>\n",
              "      <td>0.0</td>\n",
              "      <td>154.969766</td>\n",
              "      <td>157.098151</td>\n",
              "      <td>158.410219</td>\n",
              "    </tr>\n",
              "    <tr>\n",
              "      <th>2878</th>\n",
              "      <td>150.820998</td>\n",
              "      <td>0.0</td>\n",
              "      <td>157.077178</td>\n",
              "      <td>157.245168</td>\n",
              "      <td>156.892315</td>\n",
              "    </tr>\n",
              "    <tr>\n",
              "      <th>2879</th>\n",
              "      <td>147.653381</td>\n",
              "      <td>0.0</td>\n",
              "      <td>155.585835</td>\n",
              "      <td>153.720275</td>\n",
              "      <td>151.917095</td>\n",
              "    </tr>\n",
              "  </tbody>\n",
              "</table>\n",
              "<p>288 rows × 5 columns</p>\n",
              "</div>"
            ],
            "text/plain": [
              "             CGM  CHO  Predicted CGM  Predicted CGM2  Predicted CGM3\n",
              "2592  155.667044  0.0     103.777781      104.381725      105.546423\n",
              "2593  156.490644  0.0     103.665067      104.899418      106.538355\n",
              "2594  160.077362  0.0     145.559724      159.522244      170.196399\n",
              "2595  164.524153  0.0     154.395378      156.803098      157.525658\n",
              "2596  167.896745  0.0     161.083690      160.286144      158.219014\n",
              "...          ...  ...            ...             ...             ...\n",
              "2875  153.265374  0.0     145.557248      147.289786      148.724248\n",
              "2876  155.444183  0.0     150.285781      152.894347      154.828023\n",
              "2877  154.115020  0.0     154.969766      157.098151      158.410219\n",
              "2878  150.820998  0.0     157.077178      157.245168      156.892315\n",
              "2879  147.653381  0.0     155.585835      153.720275      151.917095\n",
              "\n",
              "[288 rows x 5 columns]"
            ]
          },
          "metadata": {},
          "execution_count": 298
        }
      ]
    },
    {
      "cell_type": "code",
      "metadata": {
        "id": "b4o2H3nWvaNt"
      },
      "source": [
        "xyz=df_final['Predicted CGM'].values"
      ],
      "execution_count": null,
      "outputs": []
    },
    {
      "cell_type": "code",
      "metadata": {
        "id": "jYLVfHtZvcWL"
      },
      "source": [
        "xyz1=df_final['Predicted CGM2'].values"
      ],
      "execution_count": null,
      "outputs": []
    },
    {
      "cell_type": "code",
      "metadata": {
        "id": "_aRij_KRvfCa"
      },
      "source": [
        "xyz2=df_final['Predicted CGM3'].values"
      ],
      "execution_count": null,
      "outputs": []
    },
    {
      "cell_type": "code",
      "metadata": {
        "id": "8Wm1yAPOvhUc"
      },
      "source": [
        "xyz11 = insert(xyz1, 0, 0)"
      ],
      "execution_count": null,
      "outputs": []
    },
    {
      "cell_type": "code",
      "metadata": {
        "id": "8yxguLLSvjXY"
      },
      "source": [
        "xyz111=len(xyz11)\n",
        "new_xyz111=xyz11[:xyz111-1]"
      ],
      "execution_count": null,
      "outputs": []
    },
    {
      "cell_type": "code",
      "metadata": {
        "id": "-1lVdjj_vlf7"
      },
      "source": [
        "xyz22 = insert(xyz2, 0, 0)\n",
        "xyz222 = insert(xyz22, 0, 0)\n",
        "xyz2222=len(xyz222)\n",
        "new_xyz2222=xyz222[:xyz2222-2]"
      ],
      "execution_count": null,
      "outputs": []
    },
    {
      "cell_type": "code",
      "metadata": {
        "id": "2rAQq9bUvn1D"
      },
      "source": [
        "xyzv = xyz.reshape((len(xyz), 1,1))\n",
        "xyz111v = new_xyz111.reshape((len(new_xyz111), 1,1))\n",
        "xyz2222v = new_xyz2222.reshape((len(new_xyz2222), 1,1))"
      ],
      "execution_count": null,
      "outputs": []
    },
    {
      "cell_type": "code",
      "metadata": {
        "id": "HSHXTCzzvqzC"
      },
      "source": [
        "avg_data_maker = hstack((xyzv, xyz111v, xyz2222v))"
      ],
      "execution_count": null,
      "outputs": []
    },
    {
      "cell_type": "code",
      "metadata": {
        "id": "1IcSL7JJwCyB"
      },
      "source": [
        "newarr = avg_data_maker.reshape(288,3*1)"
      ],
      "execution_count": null,
      "outputs": []
    },
    {
      "cell_type": "code",
      "metadata": {
        "id": "n5yonlm6v8Wj"
      },
      "source": [
        "jk=pd.DataFrame(newarr, columns = ['T0' , 'T1', 'T3'])"
      ],
      "execution_count": null,
      "outputs": []
    },
    {
      "cell_type": "code",
      "metadata": {
        "id": "BhWbv5J6wGcX"
      },
      "source": [
        "import numpy as np\n",
        "jk.index = np.arange(2592, len(df) + 0)"
      ],
      "execution_count": null,
      "outputs": []
    },
    {
      "cell_type": "code",
      "metadata": {
        "id": "hO-_TJCbwLat"
      },
      "source": [
        "jk['avg'] = jk[['T0', 'T1', 'T3']].mean(axis=1)"
      ],
      "execution_count": null,
      "outputs": []
    },
    {
      "cell_type": "code",
      "metadata": {
        "colab": {
          "base_uri": "https://localhost:8080/",
          "height": 423
        },
        "id": "T_NV34qRwMrr",
        "outputId": "5184bd94-6886-46ba-d44d-654621c332a7"
      },
      "source": [
        "jk"
      ],
      "execution_count": null,
      "outputs": [
        {
          "output_type": "execute_result",
          "data": {
            "text/html": [
              "<div>\n",
              "<style scoped>\n",
              "    .dataframe tbody tr th:only-of-type {\n",
              "        vertical-align: middle;\n",
              "    }\n",
              "\n",
              "    .dataframe tbody tr th {\n",
              "        vertical-align: top;\n",
              "    }\n",
              "\n",
              "    .dataframe thead th {\n",
              "        text-align: right;\n",
              "    }\n",
              "</style>\n",
              "<table border=\"1\" class=\"dataframe\">\n",
              "  <thead>\n",
              "    <tr style=\"text-align: right;\">\n",
              "      <th></th>\n",
              "      <th>T0</th>\n",
              "      <th>T1</th>\n",
              "      <th>T3</th>\n",
              "      <th>avg</th>\n",
              "    </tr>\n",
              "  </thead>\n",
              "  <tbody>\n",
              "    <tr>\n",
              "      <th>2592</th>\n",
              "      <td>103.777781</td>\n",
              "      <td>0.000000</td>\n",
              "      <td>0.000000</td>\n",
              "      <td>34.592594</td>\n",
              "    </tr>\n",
              "    <tr>\n",
              "      <th>2593</th>\n",
              "      <td>103.665067</td>\n",
              "      <td>104.381725</td>\n",
              "      <td>0.000000</td>\n",
              "      <td>69.348931</td>\n",
              "    </tr>\n",
              "    <tr>\n",
              "      <th>2594</th>\n",
              "      <td>145.559724</td>\n",
              "      <td>104.899418</td>\n",
              "      <td>105.546423</td>\n",
              "      <td>118.668522</td>\n",
              "    </tr>\n",
              "    <tr>\n",
              "      <th>2595</th>\n",
              "      <td>154.395378</td>\n",
              "      <td>159.522244</td>\n",
              "      <td>106.538355</td>\n",
              "      <td>140.151993</td>\n",
              "    </tr>\n",
              "    <tr>\n",
              "      <th>2596</th>\n",
              "      <td>161.083690</td>\n",
              "      <td>156.803098</td>\n",
              "      <td>170.196399</td>\n",
              "      <td>162.694396</td>\n",
              "    </tr>\n",
              "    <tr>\n",
              "      <th>...</th>\n",
              "      <td>...</td>\n",
              "      <td>...</td>\n",
              "      <td>...</td>\n",
              "      <td>...</td>\n",
              "    </tr>\n",
              "    <tr>\n",
              "      <th>2875</th>\n",
              "      <td>145.557248</td>\n",
              "      <td>143.547929</td>\n",
              "      <td>142.501485</td>\n",
              "      <td>143.868887</td>\n",
              "    </tr>\n",
              "    <tr>\n",
              "      <th>2876</th>\n",
              "      <td>150.285781</td>\n",
              "      <td>147.289786</td>\n",
              "      <td>144.195854</td>\n",
              "      <td>147.257141</td>\n",
              "    </tr>\n",
              "    <tr>\n",
              "      <th>2877</th>\n",
              "      <td>154.969766</td>\n",
              "      <td>152.894347</td>\n",
              "      <td>148.724248</td>\n",
              "      <td>152.196120</td>\n",
              "    </tr>\n",
              "    <tr>\n",
              "      <th>2878</th>\n",
              "      <td>157.077178</td>\n",
              "      <td>157.098151</td>\n",
              "      <td>154.828023</td>\n",
              "      <td>156.334451</td>\n",
              "    </tr>\n",
              "    <tr>\n",
              "      <th>2879</th>\n",
              "      <td>155.585835</td>\n",
              "      <td>157.245168</td>\n",
              "      <td>158.410219</td>\n",
              "      <td>157.080407</td>\n",
              "    </tr>\n",
              "  </tbody>\n",
              "</table>\n",
              "<p>288 rows × 4 columns</p>\n",
              "</div>"
            ],
            "text/plain": [
              "              T0          T1          T3         avg\n",
              "2592  103.777781    0.000000    0.000000   34.592594\n",
              "2593  103.665067  104.381725    0.000000   69.348931\n",
              "2594  145.559724  104.899418  105.546423  118.668522\n",
              "2595  154.395378  159.522244  106.538355  140.151993\n",
              "2596  161.083690  156.803098  170.196399  162.694396\n",
              "...          ...         ...         ...         ...\n",
              "2875  145.557248  143.547929  142.501485  143.868887\n",
              "2876  150.285781  147.289786  144.195854  147.257141\n",
              "2877  154.969766  152.894347  148.724248  152.196120\n",
              "2878  157.077178  157.098151  154.828023  156.334451\n",
              "2879  155.585835  157.245168  158.410219  157.080407\n",
              "\n",
              "[288 rows x 4 columns]"
            ]
          },
          "metadata": {},
          "execution_count": 311
        }
      ]
    },
    {
      "cell_type": "code",
      "metadata": {
        "colab": {
          "base_uri": "https://localhost:8080/",
          "height": 730
        },
        "id": "7Ov4uDRxwTHK",
        "outputId": "aa9f1817-3882-43bd-b5f6-a3318bcc7e98"
      },
      "source": [
        "plt.plot(df['CGM'][2400:2593],label='Training of CGM')\n",
        "plt.plot(df['CGM'][2592:],color=\"Green\", label='Real Value of CGM')\n",
        "plt.plot(jk['avg'], '--',color=\"Red\", label='Predicted Value of CGM')\n",
        "mpl.rcParams['figure.figsize'] = (22,12)\n",
        "plt.title(\"Glucose value prediction with 15 min Prediction Horizon\")\n",
        "plt.xlabel('Time Points')\n",
        "plt.ylabel('Glucose Value (mg/dL)')\n",
        "plt.legend()\n",
        "plt.show()"
      ],
      "execution_count": null,
      "outputs": [
        {
          "output_type": "display_data",
          "data": {
            "image/png": "[encoded data removed]",
            "text/plain": [
              "<Figure size 1584x864 with 1 Axes>"
            ]
          },
          "metadata": {
            "needs_background": "light"
          }
        }
      ]
    },
    {
      "cell_type": "code",
      "metadata": {
        "colab": {
          "base_uri": "https://localhost:8080/"
        },
        "id": "4sFy15_hwYUq",
        "outputId": "959ecab0-f1da-44e8-aec3-e93bf5d16b29"
      },
      "source": [
        "from sklearn.metrics import mean_squared_error\n",
        "from math import sqrt\n",
        "rmse=sqrt(mean_squared_error(df['CGM'].loc[2594:], jk['avg'].loc[2594:]))\n",
        "print(rmse)"
      ],
      "execution_count": null,
      "outputs": [
        {
          "output_type": "stream",
          "name": "stdout",
          "text": [
            "13.476782306103246\n"
          ]
        }
      ]
    },
    {
      "cell_type": "code",
      "metadata": {
        "colab": {
          "base_uri": "https://localhost:8080/"
        },
        "id": "ZE_Pfuozwfln",
        "outputId": "a3ac2865-9ec5-40e0-8b30-29640ed1d5ea"
      },
      "source": [
        "from sklearn.metrics import mean_absolute_error\n",
        "MAE= mean_absolute_error(df['CGM'].loc[2594:], jk['avg'].loc[2594:])\n",
        "print(MAE)"
      ],
      "execution_count": null,
      "outputs": [
        {
          "output_type": "stream",
          "name": "stdout",
          "text": [
            "10.067247225797892\n"
          ]
        }
      ]
    },
    {
      "cell_type": "code",
      "metadata": {
        "id": "4mFhqugDwuFu"
      },
      "source": [
        "origin_cgm_data_RMSE= df['CGM'].loc[2596:]\n",
        "predicted_cgm_data_RMSE= jk['avg'].loc[2596:]"
      ],
      "execution_count": null,
      "outputs": []
    },
    {
      "cell_type": "code",
      "metadata": {
        "id": "xjxt8-u4y7AM"
      },
      "source": [
        ""
      ],
      "execution_count": null,
      "outputs": []
    }
  ]
}